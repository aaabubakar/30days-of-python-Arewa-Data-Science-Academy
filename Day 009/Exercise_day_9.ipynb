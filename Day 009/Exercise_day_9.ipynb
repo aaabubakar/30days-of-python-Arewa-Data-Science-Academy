{
 "cells": [
  {
   "cell_type": "markdown",
   "id": "61e2a710",
   "metadata": {},
   "source": [
    "# Exercise Day 9"
   ]
  },
  {
   "cell_type": "markdown",
   "id": "c41a571f",
   "metadata": {},
   "source": [
    "## Level 1"
   ]
  },
  {
   "cell_type": "code",
   "execution_count": 4,
   "id": "a764faca",
   "metadata": {},
   "outputs": [
    {
     "name": "stdout",
     "output_type": "stream",
     "text": [
      "Enter Your Age: 35\n",
      "You are old enough to learn how to drive\n"
     ]
    }
   ],
   "source": [
    "# Question 1\n",
    "\n",
    "# Get user input using input(“Enter your age: ”). If user is 18 or older, give feedback: You are old enough to drive. If below 18 give feedback to wait for the missing amount of years.\n",
    "\n",
    "A = int(input('Enter Your Age: '))\n",
    "B = 18 - A\n",
    "\n",
    "if A > 18:\n",
    "    print('You are old enough to learn how to drive')\n",
    "elif A < 18:\n",
    "    print('You need {} more years to learn to drive'.format(B))"
   ]
  },
  {
   "cell_type": "code",
   "execution_count": 5,
   "id": "7183e286",
   "metadata": {},
   "outputs": [
    {
     "name": "stdout",
     "output_type": "stream",
     "text": [
      "Enter Your Age: 13\n",
      "You need 5 more years to learn to drive\n"
     ]
    }
   ],
   "source": [
    "# Question 1\n",
    "\n",
    "# Get user input using input(“Enter your age: ”). If user is 18 or older, give feedback: You are old enough to drive. If below 18 give feedback to wait for the missing amount of years.\n",
    "\n",
    "A = int(input('Enter Your Age: '))\n",
    "B = 18 - A\n",
    "\n",
    "if A > 18:\n",
    "    print('You are old enough to learn how to drive')\n",
    "elif A < 18:\n",
    "    print('You need {} more years to learn to drive'.format(B))"
   ]
  },
  {
   "cell_type": "code",
   "execution_count": 6,
   "id": "db512625",
   "metadata": {},
   "outputs": [
    {
     "name": "stdout",
     "output_type": "stream",
     "text": [
      "Enter Your Age: 40\n",
      "You are 12 years older than me\n"
     ]
    }
   ],
   "source": [
    "# Question 2\n",
    "#Compare the values of my_age and your_age using if … else. Who is older (me or you)? Use input(“Enter your age: ”) to get the age as input. You can use a nested condition to print 'year' for 1 year difference in age, 'years' for bigger differences, and a custom text if my_age = your_age.\n",
    "\n",
    "Age = int (input('Enter Your Age: '))\n",
    "year = Age - 28\n",
    "if Age > 28 and year == 1:\n",
    "    print ('You are a year older than me')\n",
    "elif Age > 28 and year > 1:\n",
    "    print('You are {} years older than me'. format(year))\n",
    "elif Age < 28 and year == -1:\n",
    "    print ('You are a year younger than me')\n",
    "elif Age < 28 and year < -1:\n",
    "    print('You are {} years older than me'. format(-year))\n",
    "else:\n",
    "    print('We are Age mates')\n",
    "    "
   ]
  },
  {
   "cell_type": "code",
   "execution_count": 7,
   "id": "3887cfd3",
   "metadata": {},
   "outputs": [
    {
     "name": "stdout",
     "output_type": "stream",
     "text": [
      "Enter number one: 4\n",
      "Enter number two: 2\n",
      "4 is greater than 2\n"
     ]
    }
   ],
   "source": [
    "# Question 3\n",
    "# Get two numbers from the user using input prompt. If a is greater than b return a is greater than b, if a is less b return a is smaller than b, else a is equal to b\n",
    "\n",
    "one = int (input('Enter number one: '))\n",
    "\n",
    "two = int (input('Enter number two: '))\n",
    "\n",
    "if one > two :\n",
    "    print ('{} is greater than {}'.format(one, two))\n",
    "elif one < two: \n",
    "    print ('{} is less than {}'.format(one, two))\n",
    "else:\n",
    "    print ('{} is equal to {}'.format(one, two))"
   ]
  },
  {
   "cell_type": "markdown",
   "id": "d43f4529",
   "metadata": {},
   "source": [
    "## Level 2"
   ]
  },
  {
   "cell_type": "code",
   "execution_count": 8,
   "id": "583f58b9",
   "metadata": {},
   "outputs": [
    {
     "name": "stdout",
     "output_type": "stream",
     "text": [
      "Score: 79\n",
      "B\n"
     ]
    }
   ],
   "source": [
    "# Question 1\n",
    "# Write a code which gives grade to students according to theirs scores\n",
    "\n",
    "score = int( input ('Score: '))\n",
    "\n",
    "if score >= 80:\n",
    "    print ('A')\n",
    "elif score >= 70:\n",
    "    print ('B')\n",
    "elif score >= 60:\n",
    "    print ('C')\n",
    "elif score >= 50:\n",
    "    print ('D')\n",
    "else:\n",
    "    print ('F')"
   ]
  },
  {
   "cell_type": "code",
   "execution_count": 9,
   "id": "b1ec8084",
   "metadata": {},
   "outputs": [
    {
     "name": "stdout",
     "output_type": "stream",
     "text": [
      "Enter Month: September\n",
      "The season is Autumn\n"
     ]
    }
   ],
   "source": [
    "# Question 2\n",
    "\n",
    "# Check if the season is Autumn, Winter, Spring or Summer. If the user input is: September, October or November, the season is Autumn. December, January or February, the season is Winter. March, April or May, the season is Spring June, July or August, the season is Summer\n",
    "\n",
    "\n",
    "d = ['September', 'October', 'November']\n",
    "\n",
    "j = ['December', 'January', 'February']\n",
    "\n",
    "h = ['March', 'April', 'May']\n",
    "\n",
    "i = ['June', 'July', 'August']\n",
    "\n",
    "while True:\n",
    "    season = input('Enter Month: ')\n",
    "    if season in d:\n",
    "        print ('The season is Autumn')\n",
    "        break\n",
    "    elif season in j:\n",
    "        print ('The season is Winter')\n",
    "        break\n",
    "    elif season in h:\n",
    "        print ('The season is Spring')\n",
    "        break\n",
    "    elif season in i:\n",
    "        print ('The season is Summer')\n",
    "        break\n",
    "    else:\n",
    "        print(\"Invalid month, please enter a valid month.\")"
   ]
  },
  {
   "cell_type": "code",
   "execution_count": 10,
   "id": "059f36bc",
   "metadata": {},
   "outputs": [
    {
     "name": "stdout",
     "output_type": "stream",
     "text": [
      "Enter a fruit: Grapes\n",
      "The New list of fruits:  ['banana', 'orange', 'mango', 'lemon', 'Grapes']\n"
     ]
    }
   ],
   "source": [
    "# Question 3\n",
    "# If a fruit doesn't exist in the list add the fruit to the list and print the modified list. If the fruit exists print('That fruit already exist in the list')\n",
    "\n",
    "fruits = ['banana', 'orange', 'mango', 'lemon']\n",
    "\n",
    "fruit = input(\"Enter a fruit: \")\n",
    "\n",
    "if fruit in fruits:\n",
    "    print(\"That fruit already exists in the list\")\n",
    "else:\n",
    "    fruits.append(fruit)\n",
    "    print(\"The New list of fruits: \", fruits)"
   ]
  },
  {
   "cell_type": "markdown",
   "id": "21df18d6",
   "metadata": {},
   "source": [
    "## Level 3"
   ]
  },
  {
   "cell_type": "code",
   "execution_count": 14,
   "id": "d00205df",
   "metadata": {},
   "outputs": [
    {
     "name": "stdout",
     "output_type": "stream",
     "text": [
      "Middle skill: Node\n",
      "Person has Python skill\n",
      "He is a backend developer\n",
      "Abdulkadir Abubakar lives in Nigeria . He is not married.\n"
     ]
    }
   ],
   "source": [
    "\n",
    "person = {\n",
    "    'first_name': 'Abdulkadir',\n",
    "    'last_name': 'Abubakar',\n",
    "    'age': 250,\n",
    "    'country': 'Nigeria',\n",
    "    'is_married': False,\n",
    "    'skills': ['JavaScript', 'React', 'Node', 'MongoDB', 'Python'],\n",
    "    'address': {\n",
    "        'street': 'Legico',\n",
    "        'zipcode': '02210'\n",
    "    }\n",
    "    }\n",
    "\n",
    "if 'skills' in person:\n",
    "    skills = person['skills']\n",
    "    length = len(skills)\n",
    "    if length % 2 == 0:\n",
    "        middle_index = int(length/2)\n",
    "        print(\"Middle skill:\", skills[middle_index-1], \"and\", skills[middle_index])\n",
    "    else:\n",
    "        middle_index = int(length/2)\n",
    "        print(\"Middle skill:\", skills[middle_index])\n",
    "\n",
    "    if 'Python' in skills:\n",
    "        print(\"Person has Python skill\")\n",
    "    else:\n",
    "        print(\"Person does not have Python skill\")\n",
    "\n",
    "    if len(skills) == 2 and 'JavaScript' in skills and 'React' in skills:\n",
    "        print(\"He is a front end developer\")\n",
    "    elif len(skills) == 3 and 'React' in skills and 'Node' in skills and 'MongoDB' in skills:\n",
    "        print(\"He is a fullstack developer\")\n",
    "    elif len(skills) >= 3 and 'Node' in skills and 'Python' in skills and 'MongoDB' in skills:\n",
    "        print(\"He is a backend developer\")\n",
    "    else:\n",
    "        print(\"unknown title\")\n",
    "\n",
    "if person['is_married'] or person['country'] == 'Nigeria':\n",
    "    print(person['first_name'], person['last_name'], \"lives in\", person['country'], \". He is not married.\")\n"
   ]
  },
  {
   "cell_type": "code",
   "execution_count": null,
   "id": "914acf06",
   "metadata": {},
   "outputs": [],
   "source": []
  }
 ],
 "metadata": {
  "kernelspec": {
   "display_name": "Python 3 (ipykernel)",
   "language": "python",
   "name": "python3"
  },
  "language_info": {
   "codemirror_mode": {
    "name": "ipython",
    "version": 3
   },
   "file_extension": ".py",
   "mimetype": "text/x-python",
   "name": "python",
   "nbconvert_exporter": "python",
   "pygments_lexer": "ipython3",
   "version": "3.9.13"
  }
 },
 "nbformat": 4,
 "nbformat_minor": 5
}
