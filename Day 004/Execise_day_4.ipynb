{
 "cells": [
  {
   "cell_type": "markdown",
   "id": "fdf4d049",
   "metadata": {},
   "source": [
    "# Exercise Day 4"
   ]
  },
  {
   "cell_type": "code",
   "execution_count": 1,
   "id": "2324f441",
   "metadata": {},
   "outputs": [
    {
     "name": "stdout",
     "output_type": "stream",
     "text": [
      "Thirty Days of Python\n"
     ]
    }
   ],
   "source": [
    "# Question 1\n",
    "\n",
    "a = 'Thirty'\n",
    "b = 'Days'\n",
    "c = 'of'\n",
    "d = 'Python'\n",
    "space = \" \"\n",
    "\n",
    "nam = a + space + b + space + c + space + d \n",
    "\n",
    "print (nam)"
   ]
  },
  {
   "cell_type": "code",
   "execution_count": 2,
   "id": "887bbb20",
   "metadata": {},
   "outputs": [
    {
     "name": "stdout",
     "output_type": "stream",
     "text": [
      "Coding For All\n"
     ]
    }
   ],
   "source": [
    "# Question 2\n",
    "e = 'Coding' \n",
    "f = 'For'\n",
    "g = 'All'\n",
    "\n",
    "con = e + space + f + space + g\n",
    "print (con)"
   ]
  },
  {
   "cell_type": "code",
   "execution_count": 3,
   "id": "a3f818d5",
   "metadata": {},
   "outputs": [],
   "source": [
    "# Question 3\n",
    "\n",
    "company = con"
   ]
  },
  {
   "cell_type": "code",
   "execution_count": 4,
   "id": "d375ce71",
   "metadata": {},
   "outputs": [
    {
     "name": "stdout",
     "output_type": "stream",
     "text": [
      "Coding For All\n"
     ]
    }
   ],
   "source": [
    "# Question 4\n",
    "\n",
    "print (company)"
   ]
  },
  {
   "cell_type": "code",
   "execution_count": 5,
   "id": "e84a25d4",
   "metadata": {},
   "outputs": [
    {
     "name": "stdout",
     "output_type": "stream",
     "text": [
      "14\n"
     ]
    }
   ],
   "source": [
    "# Question 5\n",
    "\n",
    "print (len(company))"
   ]
  },
  {
   "cell_type": "code",
   "execution_count": 6,
   "id": "340dc83f",
   "metadata": {},
   "outputs": [
    {
     "data": {
      "text/plain": [
       "'CODING FOR ALL'"
      ]
     },
     "execution_count": 6,
     "metadata": {},
     "output_type": "execute_result"
    }
   ],
   "source": [
    "# Question 6\n",
    "\n",
    "company.upper()\n"
   ]
  },
  {
   "cell_type": "code",
   "execution_count": 7,
   "id": "702d647e",
   "metadata": {},
   "outputs": [
    {
     "data": {
      "text/plain": [
       "'coding for all'"
      ]
     },
     "execution_count": 7,
     "metadata": {},
     "output_type": "execute_result"
    }
   ],
   "source": [
    "# Question 7\n",
    "\n",
    "company.lower()"
   ]
  },
  {
   "cell_type": "code",
   "execution_count": 8,
   "id": "d82f27cb",
   "metadata": {},
   "outputs": [
    {
     "name": "stdout",
     "output_type": "stream",
     "text": [
      "Coding for all\n",
      "Coding For All\n",
      "cODING fOR aLL\n"
     ]
    }
   ],
   "source": [
    "# Question 8\n",
    "print(company.capitalize())\n",
    "print(company.title())\n",
    "print(company.swapcase())"
   ]
  },
  {
   "cell_type": "code",
   "execution_count": 9,
   "id": "35cfc684",
   "metadata": {},
   "outputs": [
    {
     "data": {
      "text/plain": [
       "'Coding'"
      ]
     },
     "execution_count": 9,
     "metadata": {},
     "output_type": "execute_result"
    }
   ],
   "source": [
    "# Question 9\n",
    "\n",
    "company[:6]"
   ]
  },
  {
   "cell_type": "code",
   "execution_count": 10,
   "id": "d59fcebc",
   "metadata": {},
   "outputs": [
    {
     "name": "stdout",
     "output_type": "stream",
     "text": [
      "0\n",
      "True\n"
     ]
    }
   ],
   "source": [
    "# Question 10\n",
    "ni = 'Coding'\n",
    "print(company.index(ni))\n",
    "# or Using Comparison operator\n",
    "print('Coding' in company )\n"
   ]
  },
  {
   "cell_type": "code",
   "execution_count": 11,
   "id": "e00f7fa7",
   "metadata": {},
   "outputs": [
    {
     "name": "stdout",
     "output_type": "stream",
     "text": [
      "Python For All\n"
     ]
    }
   ],
   "source": [
    "# Question 11\n",
    "print(company.replace('Coding','Python'))"
   ]
  },
  {
   "cell_type": "code",
   "execution_count": 12,
   "id": "3213000c",
   "metadata": {},
   "outputs": [
    {
     "name": "stdout",
     "output_type": "stream",
     "text": [
      "Python For All\n"
     ]
    }
   ],
   "source": [
    "# Question 12\n",
    "\n",
    "new_comp = \"Python For Everyone\"\n",
    "\n",
    "print(new_comp.replace('Everyone', 'All'))"
   ]
  },
  {
   "cell_type": "code",
   "execution_count": 13,
   "id": "868627a1",
   "metadata": {},
   "outputs": [
    {
     "name": "stdout",
     "output_type": "stream",
     "text": [
      "['Coding', 'For', 'All']\n"
     ]
    }
   ],
   "source": [
    "# Question 13\n",
    "\n",
    "print(company.split())\n"
   ]
  },
  {
   "cell_type": "code",
   "execution_count": 14,
   "id": "ee7fa6ee",
   "metadata": {},
   "outputs": [
    {
     "name": "stdout",
     "output_type": "stream",
     "text": [
      "['Facebook', ' Google', ' Microsoft', ' Apple', ' IBM', ' Oracle', ' Amazon']\n"
     ]
    }
   ],
   "source": [
    "# Question 14\n",
    "\n",
    "split = \"Facebook, Google, Microsoft, Apple, IBM, Oracle, Amazon\"\n",
    "\n",
    "print(split.split(','))"
   ]
  },
  {
   "cell_type": "code",
   "execution_count": 15,
   "id": "93f3b334",
   "metadata": {},
   "outputs": [
    {
     "data": {
      "text/plain": [
       "'C'"
      ]
     },
     "execution_count": 15,
     "metadata": {},
     "output_type": "execute_result"
    }
   ],
   "source": [
    "# Question 15\n",
    "company[0]"
   ]
  },
  {
   "cell_type": "code",
   "execution_count": 16,
   "id": "e7e7d625",
   "metadata": {},
   "outputs": [
    {
     "name": "stdout",
     "output_type": "stream",
     "text": [
      "l\n",
      "l\n"
     ]
    }
   ],
   "source": [
    "# Question 16\n",
    "\n",
    "last_index = len(company) - 1\n",
    "last_letter = company[last_index]\n",
    "print(last_letter)\n",
    "\n",
    "# or \n",
    "\n",
    "print(company [-1])"
   ]
  },
  {
   "cell_type": "code",
   "execution_count": 17,
   "id": "1c4cfb98",
   "metadata": {},
   "outputs": [
    {
     "name": "stdout",
     "output_type": "stream",
     "text": [
      " \n"
     ]
    }
   ],
   "source": [
    "# Question 17\n",
    "\n",
    "print(company[10])\n",
    "\n",
    "# The 10th index is a space\n"
   ]
  },
  {
   "cell_type": "code",
   "execution_count": 18,
   "id": "7914705d",
   "metadata": {},
   "outputs": [
    {
     "name": "stdout",
     "output_type": "stream",
     "text": [
      "PFE\n"
     ]
    }
   ],
   "source": [
    "# Question 18\n",
    "print(new_comp[0] + new_comp[7] + new_comp[11])\n"
   ]
  },
  {
   "cell_type": "code",
   "execution_count": 19,
   "id": "8e47eae3",
   "metadata": {},
   "outputs": [
    {
     "name": "stdout",
     "output_type": "stream",
     "text": [
      "CFA\n"
     ]
    }
   ],
   "source": [
    "# Question 19\n",
    "\n",
    "print(company[0] + company[7] + company[11])"
   ]
  },
  {
   "cell_type": "code",
   "execution_count": 20,
   "id": "f63e0dba",
   "metadata": {},
   "outputs": [
    {
     "name": "stdout",
     "output_type": "stream",
     "text": [
      "0\n"
     ]
    }
   ],
   "source": [
    "# Question 20\n",
    "print (company.rindex('C'))"
   ]
  },
  {
   "cell_type": "code",
   "execution_count": 21,
   "id": "47367f12",
   "metadata": {},
   "outputs": [
    {
     "name": "stdout",
     "output_type": "stream",
     "text": [
      "7\n"
     ]
    }
   ],
   "source": [
    "# Question 21\n",
    "print (company.rindex('F'))"
   ]
  },
  {
   "cell_type": "code",
   "execution_count": 22,
   "id": "b187f77d",
   "metadata": {},
   "outputs": [
    {
     "name": "stdout",
     "output_type": "stream",
     "text": [
      "13\n"
     ]
    }
   ],
   "source": [
    "# Question 22\n",
    "\n",
    "print(company.rfind('l'))"
   ]
  },
  {
   "cell_type": "code",
   "execution_count": 23,
   "id": "0b0049f8",
   "metadata": {},
   "outputs": [
    {
     "name": "stdout",
     "output_type": "stream",
     "text": [
      "31\n"
     ]
    }
   ],
   "source": [
    "# Question 23\n",
    "\n",
    "sen =  'You cannot end a sentence with because because because is a conjunction'\n",
    "\n",
    "print (sen.find('because'))"
   ]
  },
  {
   "cell_type": "code",
   "execution_count": 24,
   "id": "3d621a45",
   "metadata": {},
   "outputs": [
    {
     "name": "stdout",
     "output_type": "stream",
     "text": [
      "47\n"
     ]
    }
   ],
   "source": [
    "# Question 24\n",
    "mn = 'because'\n",
    "print (sen.rfind(mn))"
   ]
  },
  {
   "cell_type": "code",
   "execution_count": 25,
   "id": "9a45c1b3",
   "metadata": {},
   "outputs": [
    {
     "name": "stdout",
     "output_type": "stream",
     "text": [
      "because because because\n"
     ]
    }
   ],
   "source": [
    "# Question 25\n",
    "\n",
    "print(sen[31:54])"
   ]
  },
  {
   "cell_type": "code",
   "execution_count": 26,
   "id": "3f0d0caf",
   "metadata": {},
   "outputs": [
    {
     "name": "stdout",
     "output_type": "stream",
     "text": [
      "47\n"
     ]
    }
   ],
   "source": [
    "# Question 26\n",
    "\n",
    "sd = 'because'\n",
    "print (sen.rfind(sd))"
   ]
  },
  {
   "cell_type": "code",
   "execution_count": 27,
   "id": "de2b4252",
   "metadata": {},
   "outputs": [
    {
     "name": "stdout",
     "output_type": "stream",
     "text": [
      "because because because\n"
     ]
    }
   ],
   "source": [
    "# Question 27\n",
    "\n",
    "print(sen[31:54])"
   ]
  },
  {
   "cell_type": "code",
   "execution_count": 28,
   "id": "74845161",
   "metadata": {},
   "outputs": [
    {
     "name": "stdout",
     "output_type": "stream",
     "text": [
      "Coding For All\n",
      "True\n"
     ]
    }
   ],
   "source": [
    "#Question 28\n",
    "print (company)\n",
    "print(company.startswith('Coding'))"
   ]
  },
  {
   "cell_type": "code",
   "execution_count": 29,
   "id": "33a23678",
   "metadata": {},
   "outputs": [
    {
     "name": "stdout",
     "output_type": "stream",
     "text": [
      "False\n"
     ]
    }
   ],
   "source": [
    "# Question 29\n",
    "\n",
    "print(company.endswith('Coding'))"
   ]
  },
  {
   "cell_type": "code",
   "execution_count": 30,
   "id": "067d698c",
   "metadata": {},
   "outputs": [
    {
     "name": "stdout",
     "output_type": "stream",
     "text": [
      "Coding For All\n"
     ]
    }
   ],
   "source": [
    "# Question 30\n",
    "company1 = '   Coding For All      ' \n",
    "print(company1.strip())"
   ]
  },
  {
   "cell_type": "code",
   "execution_count": 31,
   "id": "cc1c8504",
   "metadata": {},
   "outputs": [
    {
     "name": "stdout",
     "output_type": "stream",
     "text": [
      "False\n",
      "True\n"
     ]
    }
   ],
   "source": [
    "# Question 31\n",
    "\n",
    "w1 = '30DaysOfPython'\n",
    "w2 = 'thirty_days_of_python'\n",
    "\n",
    "print(w1.isidentifier())\n",
    "print(w2.isidentifier())"
   ]
  },
  {
   "cell_type": "code",
   "execution_count": 32,
   "id": "ab61bf5e",
   "metadata": {},
   "outputs": [
    {
     "name": "stdout",
     "output_type": "stream",
     "text": [
      "Django# Flask# Bottle# Pyramid# Falcon\n"
     ]
    }
   ],
   "source": [
    "# Question 32\n",
    "\n",
    "libraries = ['Django', 'Flask', 'Bottle', 'Pyramid', 'Falcon']\n",
    "result = '# '.join(libraries)\n",
    "print (result)"
   ]
  },
  {
   "cell_type": "code",
   "execution_count": 33,
   "id": "4dbbfcd4",
   "metadata": {},
   "outputs": [
    {
     "name": "stdout",
     "output_type": "stream",
     "text": [
      "I am enjoying this challenge.\n",
      "I just wonder what is next.\n"
     ]
    }
   ],
   "source": [
    "# Question 33\n",
    "\n",
    "az = 'I am enjoying this challenge.\\nI just wonder what is next.'\n",
    "\n",
    "print (az)"
   ]
  },
  {
   "cell_type": "code",
   "execution_count": 34,
   "id": "51fd28e6",
   "metadata": {},
   "outputs": [
    {
     "name": "stdout",
     "output_type": "stream",
     "text": [
      "Name\t\tAge\tCountry\tCity\n",
      "Asabeneh\t250\tFinland\tHelsinki\n"
     ]
    }
   ],
   "source": [
    "# Question 34\n",
    "sz = 'Name\\t\\tAge\\tCountry\\tCity'\n",
    "sy = 'Asabeneh\\t250\\tFinland\\tHelsinki'\n",
    "print (sz)\n",
    "print (sy)"
   ]
  },
  {
   "cell_type": "code",
   "execution_count": 35,
   "id": "5d67628d",
   "metadata": {},
   "outputs": [
    {
     "name": "stdout",
     "output_type": "stream",
     "text": [
      "The area of a circle with radius 10 is 314 meters square.\n"
     ]
    }
   ],
   "source": [
    "# Question 35\n",
    "\n",
    "radius = 10\n",
    "area = 3.14 * (radius**2)\n",
    "\n",
    "print ('The area of a circle with radius %d is %d meters square.'%(radius, area))"
   ]
  },
  {
   "cell_type": "code",
   "execution_count": 36,
   "id": "becaa5de",
   "metadata": {},
   "outputs": [
    {
     "name": "stdout",
     "output_type": "stream",
     "text": [
      "8 + 6 = 14\n",
      "8 - 6 = 2\n",
      "8 * 6 = 48\n",
      "8 / 6 = 1.33\n",
      "8 % 6 = 2\n",
      "8 // 6 = 1\n",
      "8 ** 6 = 262144\n"
     ]
    }
   ],
   "source": [
    "# Question 36\n",
    "a = 8\n",
    "b = 6\n",
    "print(f'{a} + {b} = {a +b}')\n",
    "print(f'{a} - {b} = {a - b}')\n",
    "print(f'{a} * {b} = {a * b}')\n",
    "print(f'{a} / {b} = {a / b:.2f}')\n",
    "print(f'{a} % {b} = {a % b}')\n",
    "print(f'{a} // {b} = {a // b}')\n",
    "print(f'{a} ** {b} = {a ** b}')"
   ]
  },
  {
   "cell_type": "code",
   "execution_count": null,
   "id": "711ac16c",
   "metadata": {},
   "outputs": [],
   "source": []
  }
 ],
 "metadata": {
  "kernelspec": {
   "display_name": "Python 3 (ipykernel)",
   "language": "python",
   "name": "python3"
  },
  "language_info": {
   "codemirror_mode": {
    "name": "ipython",
    "version": 3
   },
   "file_extension": ".py",
   "mimetype": "text/x-python",
   "name": "python",
   "nbconvert_exporter": "python",
   "pygments_lexer": "ipython3",
   "version": "3.9.13"
  }
 },
 "nbformat": 4,
 "nbformat_minor": 5
}
