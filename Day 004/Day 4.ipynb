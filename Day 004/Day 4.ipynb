{
 "cells": [
  {
   "cell_type": "markdown",
   "id": "b3927931",
   "metadata": {},
   "source": [
    "# Day 4"
   ]
  },
  {
   "cell_type": "code",
   "execution_count": 1,
   "id": "c89beaec",
   "metadata": {},
   "outputs": [
    {
     "name": "stdout",
     "output_type": "stream",
     "text": [
      "P\n",
      "1\n",
      "Hello, World!\n",
      "13\n",
      "I hope you are enjoying 30 days of python challenge\n"
     ]
    }
   ],
   "source": [
    "# Single line comment\n",
    "letter = 'P'                # A string could be a single character or a bunch of texts\n",
    "print(letter)               # P\n",
    "print(len(letter))          # 1\n",
    "greeting = 'Hello, World!'  # String could be  a single or double quote,\"Hello, World!\"\n",
    "print(greeting)             # Hello, World!\n",
    "print(len(greeting))        # 13\n",
    "sentence = \"I hope you are enjoying 30 days of python challenge\"\n",
    "print(sentence)\n"
   ]
  },
  {
   "cell_type": "code",
   "execution_count": 4,
   "id": "6edd1cbd",
   "metadata": {},
   "outputs": [
    {
     "name": "stdout",
     "output_type": "stream",
     "text": [
      "I am a teacher and enjoy teaching.\n",
      "I didn't find anything as rewarding as empowering people.\n",
      "That is why I created 30 days of python.\n"
     ]
    }
   ],
   "source": [
    "# Multiline String\n",
    "multiline_string = '''I am a teacher and enjoy teaching.\n",
    "I didn't find anything as rewarding as empowering people.\n",
    "That is why I created 30 days of python.'''\n",
    "print(multiline_string)"
   ]
  },
  {
   "cell_type": "code",
   "execution_count": 6,
   "id": "98c12405",
   "metadata": {},
   "outputs": [
    {
     "name": "stdout",
     "output_type": "stream",
     "text": [
      "Karka sake ka bari rayuwar duniya ta rude ka.\n",
      "duk sanda xaka yi abu kayi tsakaninka da Allah.\n",
      "Ka guji cutar mutane\n"
     ]
    }
   ],
   "source": [
    "a = '''Karka sake ka bari rayuwar duniya ta rude ka.\n",
    "duk sanda xaka yi abu kayi tsakaninka da Allah.\n",
    "Ka guji cutar mutane'''\n",
    "print (a)"
   ]
  },
  {
   "cell_type": "code",
   "execution_count": 7,
   "id": "c1a93a63",
   "metadata": {},
   "outputs": [
    {
     "name": "stdout",
     "output_type": "stream",
     "text": [
      "I am a teacher and enjoy teaching.\n",
      "I didn't find anything as rewarding as empowering people.\n",
      "That is why I created 30 days of python.\n"
     ]
    }
   ],
   "source": [
    "# Another way of doing the same thing\n",
    "multiline_string = \"\"\"I am a teacher and enjoy teaching.\n",
    "I didn't find anything as rewarding as empowering people.\n",
    "That is why I created 30 days of python.\"\"\"\n",
    "print(multiline_string)"
   ]
  },
  {
   "cell_type": "code",
   "execution_count": 10,
   "id": "4fc29c6e",
   "metadata": {},
   "outputs": [
    {
     "name": "stdout",
     "output_type": "stream",
     "text": [
      "I love my mom.\n",
      "I love my dad.\n",
      "I love my siblings\n"
     ]
    }
   ],
   "source": [
    "love = \"\"\"I love my mom.\n",
    "I love my dad.\n",
    "I love my siblings\"\"\"\n",
    "print (love)"
   ]
  },
  {
   "cell_type": "code",
   "execution_count": 11,
   "id": "686759bd",
   "metadata": {},
   "outputs": [
    {
     "name": "stdout",
     "output_type": "stream",
     "text": [
      "Asabeneh Yetayeh\n"
     ]
    }
   ],
   "source": [
    "# String Concatenation\n",
    "first_name = 'Asabeneh'\n",
    "last_name = 'Yetayeh'\n",
    "space = ' '\n",
    "full_name = first_name  +  space + last_name\n",
    "print(full_name) # Asabeneh Yetayeh"
   ]
  },
  {
   "cell_type": "code",
   "execution_count": 12,
   "id": "0192f2ab",
   "metadata": {},
   "outputs": [
    {
     "name": "stdout",
     "output_type": "stream",
     "text": [
      "Abubakar Abdulkadir\n"
     ]
    }
   ],
   "source": [
    "# String Concatenation\n",
    "first_name = 'Abubakar'\n",
    "last_name = 'Abdulkadir'\n",
    "space = ' '\n",
    "full_name = first_name  +  space + last_name\n",
    "print(full_name) "
   ]
  },
  {
   "cell_type": "code",
   "execution_count": 20,
   "id": "222fbf86",
   "metadata": {},
   "outputs": [
    {
     "name": "stdout",
     "output_type": "stream",
     "text": [
      "8\n",
      "10\n",
      "False\n",
      "19\n"
     ]
    }
   ],
   "source": [
    "# Checking length of a string using len() builtin function\n",
    "print(len(first_name))  # 8\n",
    "print(len(last_name))   # 7\n",
    "print(len(first_name) > len(last_name)) # False\n",
    "print(len(full_name)) # 15"
   ]
  },
  {
   "cell_type": "code",
   "execution_count": 21,
   "id": "e9cc957b",
   "metadata": {},
   "outputs": [
    {
     "name": "stdout",
     "output_type": "stream",
     "text": [
      "P\n",
      "y\n",
      "t\n",
      "h\n",
      "o\n",
      "n\n"
     ]
    }
   ],
   "source": [
    "#### Unpacking characters \n",
    "language = 'Python'\n",
    "a,b,c,d,e,f = language # unpacking sequence characters into variables\n",
    "print(a) # P\n",
    "print(b) # y\n",
    "print(c) # t \n",
    "print(d) # h\n",
    "print(e) # o\n",
    "print(f) # n"
   ]
  },
  {
   "cell_type": "code",
   "execution_count": 27,
   "id": "5bce369e",
   "metadata": {},
   "outputs": [],
   "source": [
    "name = 'Abdulkadir'\n",
    "a,b,c,d,e,f,g,h,i,j = name"
   ]
  },
  {
   "cell_type": "code",
   "execution_count": 28,
   "id": "36552ce2",
   "metadata": {},
   "outputs": [
    {
     "name": "stdout",
     "output_type": "stream",
     "text": [
      "A\n"
     ]
    }
   ],
   "source": [
    "print(a)"
   ]
  },
  {
   "cell_type": "code",
   "execution_count": 29,
   "id": "d386f706",
   "metadata": {},
   "outputs": [
    {
     "name": "stdout",
     "output_type": "stream",
     "text": [
      "r\n"
     ]
    }
   ],
   "source": [
    "print (j)"
   ]
  },
  {
   "cell_type": "code",
   "execution_count": 30,
   "id": "c2d06413",
   "metadata": {},
   "outputs": [
    {
     "name": "stdout",
     "output_type": "stream",
     "text": [
      "u\n"
     ]
    }
   ],
   "source": [
    "print(d)"
   ]
  },
  {
   "cell_type": "code",
   "execution_count": 31,
   "id": "50d62999",
   "metadata": {},
   "outputs": [],
   "source": [
    "man = [2,4,56,7,8,6,8]\n",
    "a,s,d,f,h,d,r = man"
   ]
  },
  {
   "cell_type": "code",
   "execution_count": 32,
   "id": "807c5a9e",
   "metadata": {},
   "outputs": [
    {
     "data": {
      "text/plain": [
       "6"
      ]
     },
     "execution_count": 32,
     "metadata": {},
     "output_type": "execute_result"
    }
   ],
   "source": [
    "d"
   ]
  },
  {
   "cell_type": "code",
   "execution_count": 33,
   "id": "89b5ac31",
   "metadata": {},
   "outputs": [
    {
     "name": "stdout",
     "output_type": "stream",
     "text": [
      "P\n",
      "y\n",
      "n\n"
     ]
    }
   ],
   "source": [
    "# Accessing characters in strings by index\n",
    "language = 'Python'\n",
    "first_letter = language[0]\n",
    "print(first_letter) # P\n",
    "second_letter = language[1]\n",
    "print(second_letter) # y\n",
    "last_index = len(language) - 1\n",
    "last_letter = language[last_index]\n",
    "print(last_letter) # n"
   ]
  },
  {
   "cell_type": "code",
   "execution_count": 34,
   "id": "f4880bf7",
   "metadata": {},
   "outputs": [],
   "source": [
    "cou = 'Mother'\n",
    "one = cou[0]\n",
    "two = cou[1]"
   ]
  },
  {
   "cell_type": "code",
   "execution_count": 35,
   "id": "8dd49f0c",
   "metadata": {},
   "outputs": [
    {
     "name": "stdout",
     "output_type": "stream",
     "text": [
      "M\n",
      "o\n"
     ]
    }
   ],
   "source": [
    "print(one)\n",
    "print(two)"
   ]
  },
  {
   "cell_type": "code",
   "execution_count": 39,
   "id": "c20e02a8",
   "metadata": {},
   "outputs": [],
   "source": [
    "#When indexing the index starts from 0 but the length is the total number of characters. Therefore total number of characters minus 1 will give you the last character index\n",
    "\n",
    "last = len(cou)-1\n",
    "lasts = cou[last]"
   ]
  },
  {
   "cell_type": "code",
   "execution_count": 38,
   "id": "fa96424d",
   "metadata": {},
   "outputs": [
    {
     "data": {
      "text/plain": [
       "'r'"
      ]
     },
     "execution_count": 38,
     "metadata": {},
     "output_type": "execute_result"
    }
   ],
   "source": [
    "lasts"
   ]
  },
  {
   "cell_type": "code",
   "execution_count": 40,
   "id": "bbbbce95",
   "metadata": {},
   "outputs": [
    {
     "name": "stdout",
     "output_type": "stream",
     "text": [
      "n\n",
      "o\n"
     ]
    }
   ],
   "source": [
    "# If we want to start from right end we can use negative indexing. -1 is the last index\n",
    "language = 'Python'\n",
    "last_letter = language[-1]\n",
    "print(last_letter) # n\n",
    "second_last = language[-2]\n",
    "print(second_last) # o\n"
   ]
  },
  {
   "cell_type": "code",
   "execution_count": 41,
   "id": "291f310d",
   "metadata": {},
   "outputs": [],
   "source": [
    "mak = 'Manual'"
   ]
  },
  {
   "cell_type": "code",
   "execution_count": 42,
   "id": "1db5d37f",
   "metadata": {},
   "outputs": [],
   "source": [
    "lastL = mak[-1]"
   ]
  },
  {
   "cell_type": "code",
   "execution_count": 43,
   "id": "67f926b8",
   "metadata": {},
   "outputs": [
    {
     "data": {
      "text/plain": [
       "'l'"
      ]
     },
     "execution_count": 43,
     "metadata": {},
     "output_type": "execute_result"
    }
   ],
   "source": [
    "lastL"
   ]
  },
  {
   "cell_type": "code",
   "execution_count": 44,
   "id": "c252ce54",
   "metadata": {},
   "outputs": [],
   "source": [
    "an = mak [-3]"
   ]
  },
  {
   "cell_type": "code",
   "execution_count": 45,
   "id": "04e01cb9",
   "metadata": {},
   "outputs": [
    {
     "data": {
      "text/plain": [
       "'u'"
      ]
     },
     "execution_count": 45,
     "metadata": {},
     "output_type": "execute_result"
    }
   ],
   "source": [
    "an"
   ]
  },
  {
   "cell_type": "code",
   "execution_count": 48,
   "id": "e8db556b",
   "metadata": {},
   "outputs": [
    {
     "name": "stdout",
     "output_type": "stream",
     "text": [
      "hon\n",
      "Pyt\n"
     ]
    }
   ],
   "source": [
    "# Slicing\n",
    "\n",
    "language = 'Python'\n",
    "first_three = language[0:3] # starts at zero index and up to 3 but not include 3\n",
    "last_three = language[3:6]\n",
    "print(last_three) # hon\n",
    "print(first_three)"
   ]
  },
  {
   "cell_type": "code",
   "execution_count": 49,
   "id": "ce7637ed",
   "metadata": {},
   "outputs": [
    {
     "name": "stdout",
     "output_type": "stream",
     "text": [
      "hon\n",
      "hon\n"
     ]
    }
   ],
   "source": [
    "# Another way\n",
    "\n",
    "last_three = language[-3:]\n",
    "print(last_three)   # hon\n",
    "last_three = language[3:]\n",
    "print(last_three)   # hon"
   ]
  },
  {
   "cell_type": "code",
   "execution_count": 50,
   "id": "0d320c2c",
   "metadata": {},
   "outputs": [
    {
     "name": "stdout",
     "output_type": "stream",
     "text": [
      "Pto\n"
     ]
    }
   ],
   "source": [
    "# Skipping character while splitting Python strings\n",
    "language = 'Python'\n",
    "pto = language[0:6:2] # \n",
    "print(pto) # pto"
   ]
  },
  {
   "cell_type": "code",
   "execution_count": 51,
   "id": "b354db64",
   "metadata": {},
   "outputs": [
    {
     "data": {
      "text/plain": [
       "'ning'"
      ]
     },
     "execution_count": 51,
     "metadata": {},
     "output_type": "execute_result"
    }
   ],
   "source": [
    "now = 'morning'\n",
    "s = now[3:]\n",
    "s"
   ]
  },
  {
   "cell_type": "code",
   "execution_count": 52,
   "id": "1742ade5",
   "metadata": {},
   "outputs": [],
   "source": [
    "d = now [0:8:3]"
   ]
  },
  {
   "cell_type": "code",
   "execution_count": 53,
   "id": "12555363",
   "metadata": {},
   "outputs": [
    {
     "data": {
      "text/plain": [
       "'mng'"
      ]
     },
     "execution_count": 53,
     "metadata": {},
     "output_type": "execute_result"
    }
   ],
   "source": [
    "d"
   ]
  },
  {
   "cell_type": "code",
   "execution_count": 56,
   "id": "ce74ca26",
   "metadata": {},
   "outputs": [
    {
     "name": "stdout",
     "output_type": "stream",
     "text": [
      "I hope every one enjoying the python challenge.\n",
      "Do you ?\n",
      "Days\tTopics\tExercises\n",
      "Day 1\t3\t5\n",
      "Day 2\t3\t5\n",
      "Day 3\t3\t5\n",
      "Day 4\t3\t5\n",
      "This is a back slash  symbol (\\)\n",
      "In every programming language it starts with \"Hello, World!\"\n"
     ]
    }
   ],
   "source": [
    "# Escape sequence\n",
    "print('I hope every one enjoying the python challenge.\\nDo you ?') # line break\n",
    "print('Days\\tTopics\\tExercises')\n",
    "print('Day 1\\t3\\t5')\n",
    "print('Day 2\\t3\\t5')\n",
    "print('Day 3\\t3\\t5')\n",
    "print('Day 4\\t3\\t5')\n",
    "print('This is a back slash  symbol (\\\\)') # To write a back slash\n",
    "print('In every programming language it starts with \\\"Hello, World!\\\"')"
   ]
  },
  {
   "cell_type": "code",
   "execution_count": 60,
   "id": "5083ecae",
   "metadata": {},
   "outputs": [
    {
     "name": "stdout",
     "output_type": "stream",
     "text": [
      "This is an example of the above \"When you\" the existence of the rule\n"
     ]
    }
   ],
   "source": [
    "#The second slash is there to avoid the line from breaking. It was before the second apostrophy to avoid it from showing\n",
    "print('This is an example of the above \\\"When you\\\" the existence of the rule')"
   ]
  },
  {
   "cell_type": "code",
   "execution_count": 61,
   "id": "fb8b448d",
   "metadata": {},
   "outputs": [
    {
     "name": "stdout",
     "output_type": "stream",
     "text": [
      "Thirty days of python\n"
     ]
    }
   ],
   "source": [
    "## String Methods\n",
    "# capitalize(): Converts the first character the string to Capital Letter\n",
    "\n",
    "challenge = 'thirty days of python'\n",
    "print(challenge.capitalize()) # 'Thirty days of python'"
   ]
  },
  {
   "cell_type": "code",
   "execution_count": 66,
   "id": "5f160e37",
   "metadata": {},
   "outputs": [
    {
     "name": "stdout",
     "output_type": "stream",
     "text": [
      "This is to see if proper will work and it dint but used capitalize instead\n"
     ]
    }
   ],
   "source": [
    "sample = 'this is to see if proper will work and it dint but used capitalize instead'\n",
    "print(sample.capitalize())"
   ]
  },
  {
   "cell_type": "code",
   "execution_count": 71,
   "id": "92c49981",
   "metadata": {},
   "outputs": [
    {
     "name": "stdout",
     "output_type": "stream",
     "text": [
      "y = 3\n",
      "#y from 7th letter to 14th = 1\n",
      "Count of th = 2\n"
     ]
    }
   ],
   "source": [
    "# count(): returns occurrences of substring in string, count(substring, start=.., end=..)\n",
    "\n",
    "challenge = 'thirty days of python'\n",
    "print('y =',challenge.count('y')) # 3\n",
    "print('#y from 7th letter to 14th =', challenge.count('y', 7, 14)) # 1\n",
    "print('Count of th =',challenge.count('th')) # 2`"
   ]
  },
  {
   "cell_type": "code",
   "execution_count": 72,
   "id": "ac6c48bb",
   "metadata": {},
   "outputs": [
    {
     "name": "stdout",
     "output_type": "stream",
     "text": [
      "True\n",
      "False\n"
     ]
    }
   ],
   "source": [
    "# endswith(): Checks if a string ends with a specified ending\n",
    "\n",
    "challenge = 'thirty days of python'\n",
    "print(challenge.endswith('on'))   # True\n",
    "print(challenge.endswith('tion')) # False"
   ]
  },
  {
   "cell_type": "code",
   "execution_count": 73,
   "id": "1bd84d2f",
   "metadata": {},
   "outputs": [
    {
     "name": "stdout",
     "output_type": "stream",
     "text": [
      "thirty  days    of      python\n",
      "thirty    days      of        python\n"
     ]
    }
   ],
   "source": [
    "# expandtabs(): Replaces tab character with spaces, default tab size is 8. It takes tab size argument\n",
    "\n",
    "challenge = 'thirty\\tdays\\tof\\tpython'\n",
    "print(challenge.expandtabs())   # 'thirty  days    of      python'\n",
    "print(challenge.expandtabs(10)) # 'thirty    days      of        python'"
   ]
  },
  {
   "cell_type": "code",
   "execution_count": 74,
   "id": "5469f7c6",
   "metadata": {},
   "outputs": [
    {
     "name": "stdout",
     "output_type": "stream",
     "text": [
      "5\n",
      "0\n"
     ]
    }
   ],
   "source": [
    "# find(): Returns the index of first occurrence of substring\n",
    "\n",
    "challenge = 'thirty days of python'\n",
    "print(challenge.find('y'))  # 5\n",
    "print(challenge.find('th')) # 0"
   ]
  },
  {
   "cell_type": "code",
   "execution_count": 75,
   "id": "b8870cf9",
   "metadata": {},
   "outputs": [
    {
     "name": "stdout",
     "output_type": "stream",
     "text": [
      "7\n"
     ]
    }
   ],
   "source": [
    "print(challenge.find('days'))"
   ]
  },
  {
   "cell_type": "code",
   "execution_count": 76,
   "id": "baf116de",
   "metadata": {},
   "outputs": [
    {
     "name": "stdout",
     "output_type": "stream",
     "text": [
      "I am Asabeneh Yetayeh. I am a teacher. I live in Finland.\n"
     ]
    }
   ],
   "source": [
    "# format()\tformats string into nicer output    \n",
    "first_name = 'Asabeneh'\n",
    "last_name = 'Yetayeh'\n",
    "job = 'teacher'\n",
    "country = 'Finland'\n",
    "sentence = 'I am {} {}. I am a {}. I live in {}.'.format(first_name, last_name, job, country)\n",
    "print(sentence) # I am Asabeneh Yetayeh. I am a teacher. I live in Finland."
   ]
  },
  {
   "cell_type": "code",
   "execution_count": 77,
   "id": "eb4380eb",
   "metadata": {},
   "outputs": [
    {
     "name": "stdout",
     "output_type": "stream",
     "text": [
      "I am Abdulkadir Abubakar. I am a Data Analyst. I live in Nigeria.\n"
     ]
    }
   ],
   "source": [
    "# format()\tformats string into nicer output    \n",
    "first_name = 'Abdulkadir'\n",
    "last_name = 'Abubakar'\n",
    "job = 'Data Analyst'\n",
    "country = 'Nigeria'\n",
    "sentence = 'I am {} {}. I am a {}. I live in {}.'.format(first_name, last_name, job, country)\n",
    "print(sentence)"
   ]
  },
  {
   "cell_type": "code",
   "execution_count": 80,
   "id": "7cb65752",
   "metadata": {},
   "outputs": [
    {
     "name": "stdout",
     "output_type": "stream",
     "text": [
      "The area of circle with 10 is 3.14\n"
     ]
    }
   ],
   "source": [
    "radius = 10\n",
    "pi = 3.14\n",
    "area = pi # radius ## 2\n",
    "result = 'The area of circle with {} is {}'.format(str(radius), str(area))\n",
    "print(result) # The area of circle with 10 is 314.0"
   ]
  },
  {
   "cell_type": "code",
   "execution_count": 82,
   "id": "26add7b7",
   "metadata": {},
   "outputs": [
    {
     "name": "stdout",
     "output_type": "stream",
     "text": [
      "5\n",
      "0\n"
     ]
    }
   ],
   "source": [
    "# index(): Returns the index of substring\n",
    "challenge = 'thirty days of python'\n",
    "print(challenge.index('y'))  # 5\n",
    "print(challenge.index('th')) # 0"
   ]
  },
  {
   "cell_type": "code",
   "execution_count": 83,
   "id": "59757bcf",
   "metadata": {},
   "outputs": [
    {
     "name": "stdout",
     "output_type": "stream",
     "text": [
      "True\n",
      "True\n",
      "False\n",
      "False\n"
     ]
    }
   ],
   "source": [
    "# isalnum(): Checks alphanumeric character\n",
    "\n",
    "challenge = 'ThirtyDaysPython'\n",
    "print(challenge.isalnum()) # True\n",
    "\n",
    "challenge = '30DaysPython'\n",
    "print(challenge.isalnum()) # True\n",
    "\n",
    "challenge = 'thirty days of python'\n",
    "print(challenge.isalnum()) # False\n",
    "\n",
    "challenge = 'thirty days of python 2019'\n",
    "print(challenge.isalnum()) # False"
   ]
  },
  {
   "cell_type": "code",
   "execution_count": 87,
   "id": "44556a82",
   "metadata": {},
   "outputs": [
    {
     "name": "stdout",
     "output_type": "stream",
     "text": [
      "True\n",
      "False\n"
     ]
    }
   ],
   "source": [
    "# isalpha(): Checks if all characters are alphabets\n",
    "\n",
    "challenge = 'thirtydaysofpython'\n",
    "print(challenge.isalpha()) # True\n",
    "num = '123'\n",
    "print(num.isalpha())      # False"
   ]
  },
  {
   "cell_type": "code",
   "execution_count": 89,
   "id": "ebf28b0c",
   "metadata": {},
   "outputs": [
    {
     "name": "stdout",
     "output_type": "stream",
     "text": [
      "False\n",
      "False\n"
     ]
    }
   ],
   "source": [
    "# isdecimal(): Checks Decimal Characters\n",
    "\n",
    "challenge = 'thirty days of python'\n",
    "print(challenge.isdecimal())  # 5\n",
    "print(challenge.isdecimal()) # 0"
   ]
  },
  {
   "cell_type": "code",
   "execution_count": 91,
   "id": "b5ed4ee3",
   "metadata": {},
   "outputs": [
    {
     "name": "stdout",
     "output_type": "stream",
     "text": [
      "False\n",
      "True\n"
     ]
    }
   ],
   "source": [
    "# isdigit(): Checks Digit Characters\n",
    "\n",
    "challenge = 'Thirty'\n",
    "print(challenge.isdigit()) # False\n",
    "challenge = '30'\n",
    "print(challenge.isdigit())   # True"
   ]
  },
  {
   "cell_type": "code",
   "execution_count": 94,
   "id": "641a656a",
   "metadata": {},
   "outputs": [
    {
     "name": "stdout",
     "output_type": "stream",
     "text": [
      "True\n",
      "False\n"
     ]
    }
   ],
   "source": [
    "# isdecimal():Checks decimal characters\n",
    "\n",
    "num = '10'\n",
    "print(num.isdecimal()) # True\n",
    "num = '10.5'\n",
    "print(num.isdecimal()) # False"
   ]
  },
  {
   "cell_type": "code",
   "execution_count": 95,
   "id": "d32759be",
   "metadata": {},
   "outputs": [
    {
     "name": "stdout",
     "output_type": "stream",
     "text": [
      "False\n",
      "True\n"
     ]
    }
   ],
   "source": [
    "# isidentifier():Checks for valid identifier means it check if a string is a valid variable name\n",
    "\n",
    "challenge = '30DaysOfPython'\n",
    "print(challenge.isidentifier()) # False, because it starts with a number\n",
    "challenge = 'thirty_days_of_python'\n",
    "print(challenge.isidentifier()) # True"
   ]
  },
  {
   "cell_type": "code",
   "execution_count": 96,
   "id": "da6100c4",
   "metadata": {},
   "outputs": [
    {
     "name": "stdout",
     "output_type": "stream",
     "text": [
      "True\n",
      "False\n"
     ]
    }
   ],
   "source": [
    "# islower():Checks if all alphabets in a string are lowercase\n",
    "\n",
    "challenge = 'thirty days of python'\n",
    "print(challenge.islower()) # True\n",
    "challenge = 'Thirty days of python'\n",
    "print(challenge.islower()) # False"
   ]
  },
  {
   "cell_type": "code",
   "execution_count": 99,
   "id": "42df81ff",
   "metadata": {},
   "outputs": [
    {
     "name": "stdout",
     "output_type": "stream",
     "text": [
      "False\n",
      "True\n"
     ]
    }
   ],
   "source": [
    "# isupper(): returns if all characters are uppercase characters\n",
    "\n",
    "challenge = 'thirty days of python'\n",
    "print(challenge.isupper()) #  False\n",
    "challenge = 'THIRTY DAYS OF PYTHON'\n",
    "print(challenge.isupper()) # True"
   ]
  },
  {
   "cell_type": "code",
   "execution_count": 100,
   "id": "e1ccac93",
   "metadata": {},
   "outputs": [
    {
     "name": "stdout",
     "output_type": "stream",
     "text": [
      "True\n",
      "False\n"
     ]
    }
   ],
   "source": [
    "# isnumeric():Checks numeric characters\n",
    "\n",
    "num = '10'\n",
    "print(num.isnumeric())      # True\n",
    "print('ten'.isnumeric())    # False"
   ]
  },
  {
   "cell_type": "code",
   "execution_count": 101,
   "id": "14f986f5",
   "metadata": {},
   "outputs": [
    {
     "name": "stdout",
     "output_type": "stream",
     "text": [
      "HTML#, CSS#, JavaScript#, React\n"
     ]
    }
   ],
   "source": [
    "# join(): Returns a concatenated string\n",
    "\n",
    "web_tech = ['HTML', 'CSS', 'JavaScript', 'React']\n",
    "result = '#, '.join(web_tech)\n",
    "print(result) # 'HTML# CSS# JavaScript# React'"
   ]
  },
  {
   "cell_type": "code",
   "execution_count": 108,
   "id": "441f2053",
   "metadata": {},
   "outputs": [
    {
     "name": "stdout",
     "output_type": "stream",
     "text": [
      "ba,ra,ea,w\n"
     ]
    }
   ],
   "source": [
    "w = [\"b\", \"r\", \"e\", \"w\"]\n",
    "b = 'a,'.join(w)\n",
    "print(b)"
   ]
  },
  {
   "cell_type": "code",
   "execution_count": 120,
   "id": "252d6ae6",
   "metadata": {},
   "outputs": [
    {
     "name": "stdout",
     "output_type": "stream",
     "text": [
      "thirty days of python\n"
     ]
    }
   ],
   "source": [
    "# strip(): Removes both leading and trailing characters\n",
    "# The Strip() method in Python is one of the built-in functions that come from the Python library.\n",
    "#The Strip() method in Python removes or truncates the given characters from the beginning and the end of the original string. \n",
    "#The default behavior of the strip() method is to remove the whitespace from the beginning and at the end of the string. \n",
    "#If you provide a string that has the white spaces at the beginning and end of the string, \n",
    "#the strip() method will return the only string without these whitespaces at the beginning and the end.\n",
    "\n",
    "challenge = ' thirty days of python '\n",
    "print(challenge.strip()) # 5"
   ]
  },
  {
   "cell_type": "code",
   "execution_count": 121,
   "id": "88cdd0c1",
   "metadata": {},
   "outputs": [
    {
     "name": "stdout",
     "output_type": "stream",
     "text": [
      "thirty days of coding\n"
     ]
    }
   ],
   "source": [
    "# replace(): Replaces substring inside\n",
    "\n",
    "challenge = 'thirty days of python'\n",
    "print(challenge.replace('python', 'coding')) # 'thirty days of coding'"
   ]
  },
  {
   "cell_type": "code",
   "execution_count": 122,
   "id": "ec52216e",
   "metadata": {},
   "outputs": [
    {
     "name": "stdout",
     "output_type": "stream",
     "text": [
      "['thirty', 'days', 'of', 'python']\n"
     ]
    }
   ],
   "source": [
    "# split():Splits String from Left\n",
    "\n",
    "challenge = 'thirty days of python'\n",
    "print(challenge.split()) # ['thirty', 'days', 'of', 'python']"
   ]
  },
  {
   "cell_type": "code",
   "execution_count": 123,
   "id": "a4f562de",
   "metadata": {},
   "outputs": [],
   "source": [
    "name = 'Abubakar Abdulkadir Abubakar'"
   ]
  },
  {
   "cell_type": "code",
   "execution_count": 124,
   "id": "a5b759dc",
   "metadata": {},
   "outputs": [
    {
     "data": {
      "text/plain": [
       "['Abubakar', 'Abdulkadir', 'Abubakar']"
      ]
     },
     "execution_count": 124,
     "metadata": {},
     "output_type": "execute_result"
    }
   ],
   "source": [
    "name.split()"
   ]
  },
  {
   "cell_type": "code",
   "execution_count": 125,
   "id": "d1290e70",
   "metadata": {},
   "outputs": [
    {
     "name": "stdout",
     "output_type": "stream",
     "text": [
      "Thirty Days Of Python\n"
     ]
    }
   ],
   "source": [
    "# title(): Returns a Title Cased String\n",
    "\n",
    "challenge = 'thirty days of python'\n",
    "print(challenge.title()) # Thirty Days Of Python"
   ]
  },
  {
   "cell_type": "code",
   "execution_count": 126,
   "id": "9d26afeb",
   "metadata": {},
   "outputs": [
    {
     "name": "stdout",
     "output_type": "stream",
     "text": [
      "THIRTY DAYS OF PYTHON\n",
      "tHIRTY dAYS oF pYTHON\n"
     ]
    }
   ],
   "source": [
    "# swapcase(): Checks if String Starts with the Specified String\n",
    "  \n",
    "challenge = 'thirty days of python'\n",
    "print(challenge.swapcase())   # THIRTY DAYS OF PYTHON\n",
    "challenge = 'Thirty Days Of Python'\n",
    "print(challenge.swapcase())  # tHIRTY dAYS oF pYTHON"
   ]
  },
  {
   "cell_type": "code",
   "execution_count": 129,
   "id": "cf7cf2e4",
   "metadata": {},
   "outputs": [
    {
     "name": "stdout",
     "output_type": "stream",
     "text": [
      "True\n",
      "False\n"
     ]
    }
   ],
   "source": [
    "# startswith(): Checks if String Starts with the Specified String\n",
    "\n",
    "challenge = 'thirty days of python'\n",
    "print(challenge.startswith('thirty')) # True\n",
    "challenge = '30 days of python'\n",
    "print(challenge.startswith('thirty')) # False"
   ]
  },
  {
   "cell_type": "code",
   "execution_count": null,
   "id": "4842745c",
   "metadata": {},
   "outputs": [],
   "source": []
  }
 ],
 "metadata": {
  "kernelspec": {
   "display_name": "Python 3 (ipykernel)",
   "language": "python",
   "name": "python3"
  },
  "language_info": {
   "codemirror_mode": {
    "name": "ipython",
    "version": 3
   },
   "file_extension": ".py",
   "mimetype": "text/x-python",
   "name": "python",
   "nbconvert_exporter": "python",
   "pygments_lexer": "ipython3",
   "version": "3.9.13"
  }
 },
 "nbformat": 4,
 "nbformat_minor": 5
}
