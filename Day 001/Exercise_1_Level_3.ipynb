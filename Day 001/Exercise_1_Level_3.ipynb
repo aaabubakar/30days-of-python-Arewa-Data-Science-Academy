{
 "cells": [
  {
   "cell_type": "markdown",
   "id": "cbde2a79",
   "metadata": {},
   "source": [
    "# Exercise 1: Level 3"
   ]
  },
  {
   "cell_type": "markdown",
   "id": "1e68e214",
   "metadata": {},
   "source": [
    "### Write an example for different python data types"
   ]
  },
  {
   "cell_type": "markdown",
   "id": "f9b80d23",
   "metadata": {},
   "source": [
    "#### 1. Numbers"
   ]
  },
  {
   "cell_type": "code",
   "execution_count": 4,
   "id": "0500a107",
   "metadata": {},
   "outputs": [
    {
     "name": "stdout",
     "output_type": "stream",
     "text": [
      "<class 'int'>\n",
      "<class 'float'>\n",
      "<class 'complex'>\n"
     ]
    }
   ],
   "source": [
    "# Integer\n",
    "\n",
    "print(type(10))\n",
    "\n",
    "\n",
    "# Float\n",
    "\n",
    "print(type(2.5))\n",
    "\n",
    "# Complex\n",
    "\n",
    "print(type(2-2j))\n",
    "\n"
   ]
  },
  {
   "cell_type": "markdown",
   "id": "17d045b3",
   "metadata": {},
   "source": [
    "#### 2. Finding Euclidian Distance between (2,3) and (10,8)"
   ]
  },
  {
   "cell_type": "code",
   "execution_count": 5,
   "id": "d92d6997",
   "metadata": {},
   "outputs": [],
   "source": [
    "# First we start by importing math library\n",
    "import math"
   ]
  },
  {
   "cell_type": "code",
   "execution_count": 6,
   "id": "8ba8e3d5",
   "metadata": {},
   "outputs": [
    {
     "name": "stdout",
     "output_type": "stream",
     "text": [
      "9.433981132056603\n"
     ]
    }
   ],
   "source": [
    "# Then we calculate the Euclidian dist. by assingning the int to a variable\n",
    "\n",
    "a = (2,3)\n",
    "b = (10,8) \n",
    "\n",
    "print(math.dist(a,b))"
   ]
  }
 ],
 "metadata": {
  "kernelspec": {
   "display_name": "Python 3 (ipykernel)",
   "language": "python",
   "name": "python3"
  },
  "language_info": {
   "codemirror_mode": {
    "name": "ipython",
    "version": 3
   },
   "file_extension": ".py",
   "mimetype": "text/x-python",
   "name": "python",
   "nbconvert_exporter": "python",
   "pygments_lexer": "ipython3",
   "version": "3.9.13"
  }
 },
 "nbformat": 4,
 "nbformat_minor": 5
}
