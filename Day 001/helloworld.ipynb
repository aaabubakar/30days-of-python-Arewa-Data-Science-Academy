{
 "cells": [
  {
   "cell_type": "markdown",
   "id": "f251551b",
   "metadata": {},
   "source": [
    "# Exercise 1: Level 2"
   ]
  },
  {
   "cell_type": "markdown",
   "id": "40f85935",
   "metadata": {},
   "source": [
    "###  1. Printing Python Version"
   ]
  },
  {
   "cell_type": "code",
   "execution_count": 1,
   "id": "8fb18436",
   "metadata": {},
   "outputs": [
    {
     "name": "stdout",
     "output_type": "stream",
     "text": [
      "3.9.13 (main, Aug 25 2022, 23:51:50) [MSC v.1916 64 bit (AMD64)]\n"
     ]
    }
   ],
   "source": [
    "import sys\n",
    "\n",
    "print (sys.version)"
   ]
  },
  {
   "cell_type": "code",
   "execution_count": 3,
   "id": "313defe8",
   "metadata": {},
   "outputs": [
    {
     "name": "stdout",
     "output_type": "stream",
     "text": [
      "3.9.13\n"
     ]
    }
   ],
   "source": [
    "from platform import python_version\n",
    "print (python_version())"
   ]
  },
  {
   "cell_type": "markdown",
   "id": "c449407a",
   "metadata": {},
   "source": [
    "### 2. Python Operations ( Operands 3 and 4)"
   ]
  },
  {
   "cell_type": "code",
   "execution_count": 1,
   "id": "040e882f",
   "metadata": {},
   "outputs": [
    {
     "name": "stdout",
     "output_type": "stream",
     "text": [
      "7\n"
     ]
    }
   ],
   "source": [
    "#Addition\n",
    "\n",
    "print(4+3) "
   ]
  },
  {
   "cell_type": "code",
   "execution_count": 2,
   "id": "699a79b4",
   "metadata": {},
   "outputs": [
    {
     "name": "stdout",
     "output_type": "stream",
     "text": [
      "1\n"
     ]
    }
   ],
   "source": [
    "#subtraction\n",
    "print(4 - 3)"
   ]
  },
  {
   "cell_type": "code",
   "execution_count": 3,
   "id": "e7590f71",
   "metadata": {},
   "outputs": [
    {
     "name": "stdout",
     "output_type": "stream",
     "text": [
      "12\n"
     ]
    }
   ],
   "source": [
    "#Multiplication \n",
    "\n",
    "print(4 * 3)"
   ]
  },
  {
   "cell_type": "code",
   "execution_count": 4,
   "id": "ca8c4565",
   "metadata": {},
   "outputs": [
    {
     "name": "stdout",
     "output_type": "stream",
     "text": [
      "1\n"
     ]
    }
   ],
   "source": [
    "#Modulus\n",
    "\n",
    "print(4 % 3)"
   ]
  },
  {
   "cell_type": "code",
   "execution_count": 5,
   "id": "53f68c5d",
   "metadata": {},
   "outputs": [
    {
     "name": "stdout",
     "output_type": "stream",
     "text": [
      "1.3333333333333333\n"
     ]
    }
   ],
   "source": [
    "#Division\n",
    "print(4 / 3)"
   ]
  },
  {
   "cell_type": "code",
   "execution_count": 6,
   "id": "23fad3e2",
   "metadata": {},
   "outputs": [
    {
     "name": "stdout",
     "output_type": "stream",
     "text": [
      "64\n"
     ]
    }
   ],
   "source": [
    "#Exponential\n",
    "\n",
    "print(4 ** 3)"
   ]
  },
  {
   "cell_type": "code",
   "execution_count": 7,
   "id": "a7ffd550",
   "metadata": {},
   "outputs": [
    {
     "name": "stdout",
     "output_type": "stream",
     "text": [
      "1\n"
     ]
    }
   ],
   "source": [
    "#Floor division\n",
    "\n",
    "print(4 // 3)"
   ]
  },
  {
   "cell_type": "markdown",
   "id": "71476d66",
   "metadata": {},
   "source": [
    "### 3. Write strings on Python interactive shell\n"
   ]
  },
  {
   "cell_type": "code",
   "execution_count": 15,
   "id": "542f709d",
   "metadata": {},
   "outputs": [],
   "source": [
    "#Your Name\n",
    "\n",
    "Name = 'Abdulkadir'\n",
    "\n",
    "# Family Name\n",
    "Family_name = \"Abubakar Kaoje\"\n",
    "\n",
    "# Country\n",
    "\n",
    "Country = \"Nigeria\"\n",
    "\n",
    "Status = \"I am enjoying 30 days of python\"\n"
   ]
  },
  {
   "cell_type": "code",
   "execution_count": 13,
   "id": "e2f13e7d",
   "metadata": {},
   "outputs": [
    {
     "name": "stdout",
     "output_type": "stream",
     "text": [
      "My name is Abdulkadir, from Abubakar Kaoje family, in Nigeria. Currently I am enjoying 30 days of python\n"
     ]
    }
   ],
   "source": [
    "# Joining the above in a single sentence \n",
    "\n",
    "sentence = 'My name is {}, from {} family, in {}. Currently {}'.format(Name, Family_name, Country, Status)\n",
    "\n",
    "print (sentence)"
   ]
  },
  {
   "cell_type": "markdown",
   "id": "81a8338d",
   "metadata": {},
   "source": [
    "### 4. Checking Data types of 10, 9.8, 3.14, 4-4j, ['Assabene', 'Python', 'Finland'], My Name, Family name, Country"
   ]
  },
  {
   "cell_type": "code",
   "execution_count": 8,
   "id": "a3092c27",
   "metadata": {},
   "outputs": [
    {
     "name": "stdout",
     "output_type": "stream",
     "text": [
      "<class 'int'>\n"
     ]
    }
   ],
   "source": [
    "print(type(10))"
   ]
  },
  {
   "cell_type": "code",
   "execution_count": 9,
   "id": "d7877755",
   "metadata": {},
   "outputs": [
    {
     "name": "stdout",
     "output_type": "stream",
     "text": [
      "<class 'float'>\n"
     ]
    }
   ],
   "source": [
    "print(type(9.8))"
   ]
  },
  {
   "cell_type": "code",
   "execution_count": 10,
   "id": "9d5527a4",
   "metadata": {},
   "outputs": [
    {
     "name": "stdout",
     "output_type": "stream",
     "text": [
      "<class 'float'>\n"
     ]
    }
   ],
   "source": [
    "print(type(3.14))"
   ]
  },
  {
   "cell_type": "code",
   "execution_count": 11,
   "id": "235d63bd",
   "metadata": {},
   "outputs": [
    {
     "name": "stdout",
     "output_type": "stream",
     "text": [
      "<class 'complex'>\n"
     ]
    }
   ],
   "source": [
    "print(type(4-4j))"
   ]
  },
  {
   "cell_type": "code",
   "execution_count": 12,
   "id": "edea2515",
   "metadata": {},
   "outputs": [
    {
     "name": "stdout",
     "output_type": "stream",
     "text": [
      "<class 'list'>\n"
     ]
    }
   ],
   "source": [
    "print(type(['Assabene', 'Python', 'Finland']))"
   ]
  },
  {
   "cell_type": "code",
   "execution_count": 16,
   "id": "474f3fb8",
   "metadata": {},
   "outputs": [
    {
     "name": "stdout",
     "output_type": "stream",
     "text": [
      "<class 'str'>\n"
     ]
    }
   ],
   "source": [
    "print(type(Name))"
   ]
  },
  {
   "cell_type": "code",
   "execution_count": 17,
   "id": "f986848c",
   "metadata": {},
   "outputs": [
    {
     "name": "stdout",
     "output_type": "stream",
     "text": [
      "<class 'str'>\n"
     ]
    }
   ],
   "source": [
    "print(type(Family_name))"
   ]
  },
  {
   "cell_type": "code",
   "execution_count": 18,
   "id": "4aeac40c",
   "metadata": {},
   "outputs": [
    {
     "name": "stdout",
     "output_type": "stream",
     "text": [
      "<class 'str'>\n"
     ]
    }
   ],
   "source": [
    "print(type(Country))"
   ]
  },
  {
   "cell_type": "code",
   "execution_count": null,
   "id": "84fb8587",
   "metadata": {},
   "outputs": [],
   "source": []
  }
 ],
 "metadata": {
  "kernelspec": {
   "display_name": "Python 3 (ipykernel)",
   "language": "python",
   "name": "python3"
  },
  "language_info": {
   "codemirror_mode": {
    "name": "ipython",
    "version": 3
   },
   "file_extension": ".py",
   "mimetype": "text/x-python",
   "name": "python",
   "nbconvert_exporter": "python",
   "pygments_lexer": "ipython3",
   "version": "3.9.13"
  }
 },
 "nbformat": 4,
 "nbformat_minor": 5
}
