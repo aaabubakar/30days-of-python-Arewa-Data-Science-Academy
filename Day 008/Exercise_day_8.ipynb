{
 "cells": [
  {
   "cell_type": "markdown",
   "id": "3cefde3a",
   "metadata": {},
   "source": [
    "# Exercise Day 8\n"
   ]
  },
  {
   "cell_type": "code",
   "execution_count": 2,
   "id": "6df681de",
   "metadata": {},
   "outputs": [
    {
     "data": {
      "text/plain": [
       "{}"
      ]
     },
     "execution_count": 2,
     "metadata": {},
     "output_type": "execute_result"
    }
   ],
   "source": [
    "# Question 1\n",
    "# Create an empty dictionary called dog\n",
    "\n",
    "dog = {}\n",
    "\n",
    "dog"
   ]
  },
  {
   "cell_type": "code",
   "execution_count": 5,
   "id": "c7d9ab56",
   "metadata": {},
   "outputs": [
    {
     "name": "stdout",
     "output_type": "stream",
     "text": [
      "{'name': 'Doctor', 'Color': 'Brown', 'Breed': 'German Shepherd', 'legs': 4, 'Age': 20}\n"
     ]
    }
   ],
   "source": [
    "# Question 2\n",
    "# Add name, color, breed, legs, age to the dog dictionary\n",
    "\n",
    "dog['name'] = 'Doctor'\n",
    "dog['Color'] = 'Brown'\n",
    "dog['Breed'] = 'German Shepherd'\n",
    "dog['legs'] = 4\n",
    "dog ['Age'] = 20\n",
    "print(dog)"
   ]
  },
  {
   "cell_type": "code",
   "execution_count": 6,
   "id": "a417fcea",
   "metadata": {},
   "outputs": [
    {
     "name": "stdout",
     "output_type": "stream",
     "text": [
      "{'First name': 'Abdulkadir', 'Last name': 'Abubakar', 'gender': 'Male', 'Age': 28, 'Marital Status': 'Single', 'Skills': ['Data Science', 'Data Analysis'], 'Country': 'Nigeria', 'City': 'Lagos', 'Address': '055 Legico Barracks'}\n"
     ]
    }
   ],
   "source": [
    "# Question 3\n",
    "# Create a student dictionary and add first_name, last_name, gender, age, marital status, skills, country, city and address as keys for the dictionary\n",
    "student = {'First name': 'Abdulkadir', 'Last name': 'Abubakar', 'gender': 'Male', 'Age': 28, 'Marital Status': 'Single', 'Skills': ['Data Science', 'Data Analysis'], 'Country': 'Nigeria', 'City': 'Lagos', 'Address' : '055 Legico Barracks' }\n",
    "print (student)"
   ]
  },
  {
   "cell_type": "code",
   "execution_count": 7,
   "id": "445b86c7",
   "metadata": {},
   "outputs": [
    {
     "name": "stdout",
     "output_type": "stream",
     "text": [
      "9\n"
     ]
    }
   ],
   "source": [
    "# Question 4\n",
    "# Get the length of the student dictionary\n",
    "print(len(student))"
   ]
  },
  {
   "cell_type": "code",
   "execution_count": 8,
   "id": "7273be87",
   "metadata": {},
   "outputs": [
    {
     "data": {
      "text/plain": [
       "['Data Science', 'Data Analysis']"
      ]
     },
     "execution_count": 8,
     "metadata": {},
     "output_type": "execute_result"
    }
   ],
   "source": [
    "# Question 5\n",
    "# Get the value of skills and check the data type, it should be a list\n",
    "\n",
    "student['Skills']"
   ]
  },
  {
   "cell_type": "code",
   "execution_count": 9,
   "id": "0ce053b5",
   "metadata": {},
   "outputs": [
    {
     "name": "stdout",
     "output_type": "stream",
     "text": [
      "['Data Science', 'Data Analysis', 'Web design', 'Software Development']\n"
     ]
    }
   ],
   "source": [
    "# Question 6\n",
    "# Modify the skills values by adding one or two skills\n",
    "\n",
    "student['Skills'].append(\"Web design\")\n",
    "\n",
    "student['Skills'].append('Software Development')\n",
    "\n",
    "print(student['Skills'])"
   ]
  },
  {
   "cell_type": "code",
   "execution_count": 10,
   "id": "1793089c",
   "metadata": {},
   "outputs": [
    {
     "name": "stdout",
     "output_type": "stream",
     "text": [
      "dict_keys(['First name', 'Last name', 'gender', 'Age', 'Marital Status', 'Skills', 'Country', 'City', 'Address'])\n"
     ]
    }
   ],
   "source": [
    "# Question 7\n",
    "# Get the dictionary keys as a list\n",
    "keys = student.keys()\n",
    "print(keys)"
   ]
  },
  {
   "cell_type": "code",
   "execution_count": 11,
   "id": "e50161a3",
   "metadata": {},
   "outputs": [
    {
     "name": "stdout",
     "output_type": "stream",
     "text": [
      "dict_values(['Abdulkadir', 'Abubakar', 'Male', 28, 'Single', ['Data Science', 'Data Analysis', 'Web design', 'Software Development'], 'Nigeria', 'Lagos', '055 Legico Barracks'])\n"
     ]
    }
   ],
   "source": [
    "# Question 8\n",
    "# Get the dictionary values as a list\n",
    "\n",
    "values = student.values()\n",
    "print(values)"
   ]
  },
  {
   "cell_type": "code",
   "execution_count": 12,
   "id": "16f9a5ee",
   "metadata": {},
   "outputs": [
    {
     "name": "stdout",
     "output_type": "stream",
     "text": [
      "dict_items([('First name', 'Abdulkadir'), ('Last name', 'Abubakar'), ('gender', 'Male'), ('Age', 28), ('Marital Status', 'Single'), ('Skills', ['Data Science', 'Data Analysis', 'Web design', 'Software Development']), ('Country', 'Nigeria'), ('City', 'Lagos'), ('Address', '055 Legico Barracks')])\n"
     ]
    }
   ],
   "source": [
    "# Question 9\n",
    "# Change the dictionary to a list of tuples using items() method\n",
    "\n",
    "print(student.items())"
   ]
  },
  {
   "cell_type": "code",
   "execution_count": 13,
   "id": "28e63919",
   "metadata": {},
   "outputs": [
    {
     "name": "stdout",
     "output_type": "stream",
     "text": [
      "{'First name': 'Abdulkadir', 'Last name': 'Abubakar', 'gender': 'Male', 'Age': 28, 'Marital Status': 'Single', 'Skills': ['Data Science', 'Data Analysis', 'Web design', 'Software Development'], 'Country': 'Nigeria', 'City': 'Lagos'}\n"
     ]
    }
   ],
   "source": [
    "# Question 10\n",
    "# Delete one of the items in the dictionary\n",
    "\n",
    "del student['Address']\n",
    "\n",
    "print (student)"
   ]
  },
  {
   "cell_type": "code",
   "execution_count": 14,
   "id": "9172aaf4",
   "metadata": {},
   "outputs": [],
   "source": [
    "# Question 11\n",
    "# Delete one of the dictionaries\n",
    "\n",
    "del student\n"
   ]
  },
  {
   "cell_type": "code",
   "execution_count": null,
   "id": "a09dd8e1",
   "metadata": {},
   "outputs": [],
   "source": []
  }
 ],
 "metadata": {
  "kernelspec": {
   "display_name": "Python 3 (ipykernel)",
   "language": "python",
   "name": "python3"
  },
  "language_info": {
   "codemirror_mode": {
    "name": "ipython",
    "version": 3
   },
   "file_extension": ".py",
   "mimetype": "text/x-python",
   "name": "python",
   "nbconvert_exporter": "python",
   "pygments_lexer": "ipython3",
   "version": "3.9.13"
  }
 },
 "nbformat": 4,
 "nbformat_minor": 5
}
