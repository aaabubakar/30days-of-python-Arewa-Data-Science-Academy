{
 "cells": [
  {
   "cell_type": "markdown",
   "id": "460bebae",
   "metadata": {},
   "source": [
    "# Exercise Day 17\n"
   ]
  },
  {
   "cell_type": "markdown",
   "id": "09def9fc",
   "metadata": {},
   "source": [
    "   ## Exception Handling, Packing and Unpacking"
   ]
  },
  {
   "cell_type": "markdown",
   "id": "b638e285",
   "metadata": {},
   "source": [
    "# 1. names = ['Finland', 'Sweden', 'Norway','Denmark','Iceland', 'Estonia','Russia']. Unpack the first five countries and store them in a variable nordic_countries, store Estonia and Russia in es, and ru respectively."
   ]
  },
  {
   "cell_type": "code",
   "execution_count": 1,
   "id": "5480f97f",
   "metadata": {},
   "outputs": [
    {
     "name": "stdout",
     "output_type": "stream",
     "text": [
      "The nordic countries are:  ['Finland', 'Sweden', 'Norway', 'Denmark', 'Iceland']\n",
      "\n",
      "ES:  Estonia\n",
      "\n",
      "RU:  Russia\n"
     ]
    }
   ],
   "source": [
    "names = ['Finland', 'Sweden', 'Norway','Denmark','Iceland', 'Estonia','Russia']\n",
    "\n",
    "*nordic_countries, es, ru = names\n",
    "\n",
    "print( \"The nordic countries are: \", nordic_countries)\n",
    "\n",
    "print('\\nES: ', es)\n",
    "\n",
    "print('\\nRU: ', ru)"
   ]
  },
  {
   "cell_type": "code",
   "execution_count": null,
   "id": "009bd140",
   "metadata": {},
   "outputs": [],
   "source": []
  }
 ],
 "metadata": {
  "kernelspec": {
   "display_name": "Python 3 (ipykernel)",
   "language": "python",
   "name": "python3"
  },
  "language_info": {
   "codemirror_mode": {
    "name": "ipython",
    "version": 3
   },
   "file_extension": ".py",
   "mimetype": "text/x-python",
   "name": "python",
   "nbconvert_exporter": "python",
   "pygments_lexer": "ipython3",
   "version": "3.9.13"
  }
 },
 "nbformat": 4,
 "nbformat_minor": 5
}
