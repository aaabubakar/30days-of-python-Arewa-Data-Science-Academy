{
 "cells": [
  {
   "cell_type": "markdown",
   "id": "84d6112b",
   "metadata": {},
   "source": [
    "# Exercise Day 7"
   ]
  },
  {
   "cell_type": "markdown",
   "id": "858efaa4",
   "metadata": {},
   "source": [
    "# Level 1"
   ]
  },
  {
   "cell_type": "code",
   "execution_count": 1,
   "id": "5c994c8c",
   "metadata": {},
   "outputs": [],
   "source": [
    "it_companies = {'Facebook', 'Google', 'Microsoft', 'Apple', 'IBM', 'Oracle', 'Amazon'}\n",
    "A = {19, 22, 24, 20, 25, 26}\n",
    "B = {19, 22, 20, 25, 26, 24, 28, 27}\n",
    "age = [22, 19, 24, 25, 26, 24, 25, 24]"
   ]
  },
  {
   "cell_type": "code",
   "execution_count": 2,
   "id": "7fc3c3ea",
   "metadata": {},
   "outputs": [
    {
     "data": {
      "text/plain": [
       "7"
      ]
     },
     "execution_count": 2,
     "metadata": {},
     "output_type": "execute_result"
    }
   ],
   "source": [
    "# Question 1\n",
    "#Find the length of the set it_companies\n",
    "\n",
    "len(it_companies)"
   ]
  },
  {
   "cell_type": "code",
   "execution_count": 3,
   "id": "5ea0be02",
   "metadata": {},
   "outputs": [
    {
     "data": {
      "text/plain": [
       "{'Amazon',\n",
       " 'Apple',\n",
       " 'Facebook',\n",
       " 'Google',\n",
       " 'IBM',\n",
       " 'Microsoft',\n",
       " 'Oracle',\n",
       " 'Twitter'}"
      ]
     },
     "execution_count": 3,
     "metadata": {},
     "output_type": "execute_result"
    }
   ],
   "source": [
    "# Question 2\n",
    "# Add 'Twitter' to it_companies\n",
    "it_companies.add('Twitter')\n",
    "it_companies"
   ]
  },
  {
   "cell_type": "code",
   "execution_count": 4,
   "id": "9bef04bc",
   "metadata": {},
   "outputs": [
    {
     "data": {
      "text/plain": [
       "{'Amazon',\n",
       " 'Apple',\n",
       " 'Data camp',\n",
       " 'Facebook',\n",
       " 'Google',\n",
       " 'IBM',\n",
       " 'Microsoft',\n",
       " 'Oracle',\n",
       " 'Twitter',\n",
       " 'Udacity'}"
      ]
     },
     "execution_count": 4,
     "metadata": {},
     "output_type": "execute_result"
    }
   ],
   "source": [
    "# Question 3\n",
    "# Insert multiple IT companies at once to the set it_companies\n",
    "\n",
    "it_companies.update(['Data camp', 'Udacity'])\n",
    "it_companies"
   ]
  },
  {
   "cell_type": "code",
   "execution_count": 5,
   "id": "9235c710",
   "metadata": {},
   "outputs": [
    {
     "data": {
      "text/plain": [
       "{'Amazon',\n",
       " 'Apple',\n",
       " 'Data camp',\n",
       " 'Facebook',\n",
       " 'Google',\n",
       " 'IBM',\n",
       " 'Microsoft',\n",
       " 'Oracle',\n",
       " 'Twitter'}"
      ]
     },
     "execution_count": 5,
     "metadata": {},
     "output_type": "execute_result"
    }
   ],
   "source": [
    "# Question 4\n",
    "# Remove one of the companies from the set it_companies\n",
    "\n",
    "it_companies.remove('Udacity')\n",
    "it_companies"
   ]
  },
  {
   "cell_type": "code",
   "execution_count": 6,
   "id": "90cd63a4",
   "metadata": {},
   "outputs": [],
   "source": [
    "# Question 5\n",
    "# What is the difference between remove and discard\n",
    "\n",
    "#If the item to be removed is not found in the set, remove() method will raise errors, so it is good to check if the item exist in the given set. However, discard() method doesn't raise any errors."
   ]
  },
  {
   "cell_type": "markdown",
   "id": "f07740e1",
   "metadata": {},
   "source": [
    "## Level 2"
   ]
  },
  {
   "cell_type": "code",
   "execution_count": 7,
   "id": "0931a2e2",
   "metadata": {},
   "outputs": [
    {
     "name": "stdout",
     "output_type": "stream",
     "text": [
      "{19, 20, 22, 24, 25, 26, 27, 28}\n"
     ]
    }
   ],
   "source": [
    "# Question 1\n",
    "# Join A and B\n",
    "\n",
    "C = A.union(B)\n",
    "print (C)"
   ]
  },
  {
   "cell_type": "code",
   "execution_count": 8,
   "id": "9c40099c",
   "metadata": {},
   "outputs": [
    {
     "data": {
      "text/plain": [
       "{19, 20, 22, 24, 25, 26}"
      ]
     },
     "execution_count": 8,
     "metadata": {},
     "output_type": "execute_result"
    }
   ],
   "source": [
    "# Question 2\n",
    "# Find A intersection B\n",
    "\n",
    "A.intersection(B)"
   ]
  },
  {
   "cell_type": "code",
   "execution_count": 9,
   "id": "42dc2d33",
   "metadata": {},
   "outputs": [
    {
     "data": {
      "text/plain": [
       "True"
      ]
     },
     "execution_count": 9,
     "metadata": {},
     "output_type": "execute_result"
    }
   ],
   "source": [
    "# Question 3\n",
    "# is A a subset of B\n",
    "\n",
    "A.issubset(B)"
   ]
  },
  {
   "cell_type": "code",
   "execution_count": 10,
   "id": "d2476784",
   "metadata": {},
   "outputs": [
    {
     "data": {
      "text/plain": [
       "False"
      ]
     },
     "execution_count": 10,
     "metadata": {},
     "output_type": "execute_result"
    }
   ],
   "source": [
    "# Question 4\n",
    "# Are A and B disjoint sets\n",
    "\n",
    "A.isdisjoint(B)"
   ]
  },
  {
   "cell_type": "code",
   "execution_count": 11,
   "id": "c1863018",
   "metadata": {},
   "outputs": [
    {
     "data": {
      "text/plain": [
       "{19, 20, 22, 24, 25, 26, 27, 28}"
      ]
     },
     "execution_count": 11,
     "metadata": {},
     "output_type": "execute_result"
    }
   ],
   "source": [
    "# Question 5\n",
    "# Join A with B and B with A\n",
    "\n",
    "A.union(B)"
   ]
  },
  {
   "cell_type": "code",
   "execution_count": 12,
   "id": "03b9d1a0",
   "metadata": {},
   "outputs": [
    {
     "data": {
      "text/plain": [
       "{19, 20, 22, 24, 25, 26, 27, 28}"
      ]
     },
     "execution_count": 12,
     "metadata": {},
     "output_type": "execute_result"
    }
   ],
   "source": [
    "B.union(A)"
   ]
  },
  {
   "cell_type": "code",
   "execution_count": 13,
   "id": "f3941112",
   "metadata": {},
   "outputs": [
    {
     "data": {
      "text/plain": [
       "{27, 28}"
      ]
     },
     "execution_count": 13,
     "metadata": {},
     "output_type": "execute_result"
    }
   ],
   "source": [
    "# Question 6\n",
    "# What is the symmetric difference between A and B\n",
    "\n",
    "A.symmetric_difference(B)"
   ]
  },
  {
   "cell_type": "code",
   "execution_count": 14,
   "id": "f677149a",
   "metadata": {},
   "outputs": [],
   "source": [
    "# Question 7\n",
    "# Delete the sets completely\n",
    "\n",
    "del A\n",
    "del B"
   ]
  },
  {
   "cell_type": "markdown",
   "id": "9469430a",
   "metadata": {},
   "source": [
    "## Level 3"
   ]
  },
  {
   "cell_type": "code",
   "execution_count": 15,
   "id": "be474558",
   "metadata": {},
   "outputs": [
    {
     "name": "stdout",
     "output_type": "stream",
     "text": [
      "{19, 22, 24, 25, 26}\n",
      "8\n",
      "5\n",
      "The list is greater than the set\n"
     ]
    }
   ],
   "source": [
    "# Question 1\n",
    "# Convert the ages to a set and compare the length of the list and the set, which one is bigger?\n",
    "\n",
    "# converting ages to set\n",
    "age_set = set(age)\n",
    "print(age_set)\n",
    "\n",
    "# Length of Ages list\n",
    "print(len(age))\n",
    "\n",
    "# Length of age set\n",
    "print (len (age_set))\n",
    "\n",
    "print ('The list is greater than the set')"
   ]
  },
  {
   "cell_type": "code",
   "execution_count": 16,
   "id": "2ff81d57",
   "metadata": {},
   "outputs": [],
   "source": [
    "# Question 2\n",
    "# Explain the difference between the following data types: string, list, tuple and set\n",
    "\n",
    "#Strings are the character data type in python \n",
    "# A list is a collection of ordered data and are mutable i.e you can add elements to a list. They are enclosed in with a square Bracket\n",
    "# A tuple is an ordered collection of data and are immutable. Tuple are enclosed within Brackets\n",
    "# A set is an unordered collection of data, does not accept duplicate elements but are mutable. They are enclosed within a curly Brackets\n"
   ]
  },
  {
   "cell_type": "code",
   "execution_count": 17,
   "id": "322c8009",
   "metadata": {},
   "outputs": [
    {
     "name": "stdout",
     "output_type": "stream",
     "text": [
      "{'to', 'am', 'a', 'teach', 'I', 'and', 'inspire', 'people', 'love', 'teacher'}\n",
      "The number of unique words in the sentence is  10\n"
     ]
    }
   ],
   "source": [
    "# Question 3\n",
    "# I am a teacher and I love to inspire and teach people. How many unique words have been used in the sentence? Use the split methods and set to get the unique words.\n",
    "sent = \"I am a teacher and I love to inspire and teach people\"\n",
    "\n",
    "ans = set(sent.split())\n",
    "print(ans)\n",
    "\n",
    "print ('The number of unique words in the sentence is ', len(ans))"
   ]
  },
  {
   "cell_type": "code",
   "execution_count": null,
   "id": "dbc6e23d",
   "metadata": {},
   "outputs": [],
   "source": []
  }
 ],
 "metadata": {
  "kernelspec": {
   "display_name": "Python 3 (ipykernel)",
   "language": "python",
   "name": "python3"
  },
  "language_info": {
   "codemirror_mode": {
    "name": "ipython",
    "version": 3
   },
   "file_extension": ".py",
   "mimetype": "text/x-python",
   "name": "python",
   "nbconvert_exporter": "python",
   "pygments_lexer": "ipython3",
   "version": "3.9.13"
  }
 },
 "nbformat": 4,
 "nbformat_minor": 5
}
