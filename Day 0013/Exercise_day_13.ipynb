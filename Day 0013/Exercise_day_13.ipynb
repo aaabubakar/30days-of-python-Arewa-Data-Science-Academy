{
 "cells": [
  {
   "cell_type": "markdown",
   "id": "67a692e4",
   "metadata": {},
   "source": [
    "# Exercise Day 13"
   ]
  },
  {
   "cell_type": "code",
   "execution_count": 2,
   "id": "d38e7a2b",
   "metadata": {},
   "outputs": [
    {
     "name": "stdout",
     "output_type": "stream",
     "text": [
      "[-4, -3, -2, -1]\n"
     ]
    }
   ],
   "source": [
    "# Question 1\n",
    "\n",
    "numbers = [-4, -3, -2, -1, 0, 2, 4, 6]\n",
    "negative_numbers = [num for num in numbers if num < 0]\n",
    "print(negative_numbers)\n"
   ]
  },
  {
   "cell_type": "code",
   "execution_count": 3,
   "id": "0a7c329a",
   "metadata": {},
   "outputs": [
    {
     "name": "stdout",
     "output_type": "stream",
     "text": [
      "[1, 2, 3, 4, 5, 6, 7, 8, 9]\n"
     ]
    }
   ],
   "source": [
    "# Question 2\n",
    "\n",
    "list_of_lists =[[[1, 2, 3]], [[4, 5, 6]], [[7, 8, 9]]]\n",
    "flattened_list = [num for sublist in list_of_lists for subsublist in sublist for num in subsublist]\n",
    "print(flattened_list)\n"
   ]
  },
  {
   "cell_type": "code",
   "execution_count": 4,
   "id": "a1adf6a8",
   "metadata": {},
   "outputs": [
    {
     "name": "stdout",
     "output_type": "stream",
     "text": [
      "[(0, 1, 0, 0, 0, 0, 0), (1, 1, 1, 1, 1, 1, 1), (2, 1, 2, 4, 8, 16, 32), (3, 1, 3, 9, 27, 81, 243), (4, 1, 4, 16, 64, 256, 1024), (5, 1, 5, 25, 125, 625, 3125), (6, 1, 6, 36, 216, 1296, 7776), (7, 1, 7, 49, 343, 2401, 16807), (8, 1, 8, 64, 512, 4096, 32768), (9, 1, 9, 81, 729, 6561, 59049), (10, 1, 10, 100, 1000, 10000, 100000)]\n"
     ]
    }
   ],
   "source": [
    "# Question 3\n",
    "\n",
    "list_of_tuples = [(i, 1, i**1, i**2, i**3, i**4, i**5) for i in range(11)]\n",
    "print(list_of_tuples)\n"
   ]
  },
  {
   "cell_type": "code",
   "execution_count": 5,
   "id": "1d333523",
   "metadata": {},
   "outputs": [
    {
     "name": "stdout",
     "output_type": "stream",
     "text": [
      "[['FINLAND', 'FIN', 'HELSINKI'], ['SWEDEN', 'SWE', 'STOCKHOLM'], ['NORWAY', 'NOR', 'OSLO']]\n"
     ]
    }
   ],
   "source": [
    "# Question 4\n",
    "\n",
    "countries = [[('Finland', 'Helsinki')], [('Sweden', 'Stockholm')], [('Norway', 'Oslo')]]\n",
    "flattened_list = [[country[0][0].upper(), country[0][0][:3].upper(), country[0][1].upper()] for country in countries]\n",
    "print(flattened_list)\n"
   ]
  },
  {
   "cell_type": "code",
   "execution_count": 6,
   "id": "49545efd",
   "metadata": {},
   "outputs": [
    {
     "name": "stdout",
     "output_type": "stream",
     "text": [
      "[{'country': 'FINLAND', 'city': 'HELSINKI'}, {'country': 'SWEDEN', 'city': 'STOCKHOLM'}, {'country': 'NORWAY', 'city': 'OSLO'}]\n"
     ]
    }
   ],
   "source": [
    "# Question 5\n",
    "\n",
    "countries = [[('Finland', 'Helsinki')], [('Sweden', 'Stockholm')], [('Norway', 'Oslo')]]\n",
    "list_of_dicts = [{'country': country[0][0].upper(), 'city': country[0][1].upper()} for country in countries]\n",
    "print(list_of_dicts)\n"
   ]
  },
  {
   "cell_type": "code",
   "execution_count": 7,
   "id": "e26c2971",
   "metadata": {},
   "outputs": [
    {
     "name": "stdout",
     "output_type": "stream",
     "text": [
      "['Abubakar Abdulkadir', 'David Smith', 'Donald Trump', 'Bill Gates']\n"
     ]
    }
   ],
   "source": [
    "# Question 6\n",
    "\n",
    "names = [[('Abubakar', 'Abdulkadir')], [('David', 'Smith')], [('Donald', 'Trump')], [('Bill', 'Gates')]]\n",
    "concatenated_strings = [name[0][0] + \" \" + name[0][1] for name in names]\n",
    "print(concatenated_strings)\n"
   ]
  },
  {
   "cell_type": "code",
   "execution_count": 8,
   "id": "d3162222",
   "metadata": {},
   "outputs": [
    {
     "name": "stdout",
     "output_type": "stream",
     "text": [
      "Slope: 6\n",
      "Y-intercept: 3\n"
     ]
    }
   ],
   "source": [
    "# Question 7\n",
    "\n",
    "calculate_slope_or_intercept = lambda x, y, slope_or_intercept: x * y if slope_or_intercept == \"slope\" else y\n",
    "\n",
    "\n",
    "result = calculate_slope_or_intercept(2, 3, \"slope\")\n",
    "print(\"Slope:\", result)\n",
    "\n",
    "result = calculate_slope_or_intercept(2, 3, \"intercept\")\n",
    "print(\"Y-intercept:\", result)\n"
   ]
  }
 ],
 "metadata": {
  "kernelspec": {
   "display_name": "Python 3 (ipykernel)",
   "language": "python",
   "name": "python3"
  },
  "language_info": {
   "codemirror_mode": {
    "name": "ipython",
    "version": 3
   },
   "file_extension": ".py",
   "mimetype": "text/x-python",
   "name": "python",
   "nbconvert_exporter": "python",
   "pygments_lexer": "ipython3",
   "version": "3.9.13"
  }
 },
 "nbformat": 4,
 "nbformat_minor": 5
}
