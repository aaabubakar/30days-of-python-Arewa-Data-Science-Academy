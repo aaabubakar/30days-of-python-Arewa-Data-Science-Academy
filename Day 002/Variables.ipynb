{
 "cells": [
  {
   "cell_type": "markdown",
   "id": "4f94e7ea",
   "metadata": {},
   "source": [
    "# Exercise Day 2: Level 1"
   ]
  },
  {
   "cell_type": "code",
   "execution_count": 1,
   "id": "35f422b1",
   "metadata": {},
   "outputs": [],
   "source": [
    "# Day 2: 30 days of python"
   ]
  },
  {
   "cell_type": "code",
   "execution_count": 4,
   "id": "a73d0c58",
   "metadata": {},
   "outputs": [],
   "source": [
    "first_name = 'Abdulkadir'\n",
    "\n",
    "last_name = 'Abubakar'\n",
    "\n",
    "s = ' '\n",
    "\n",
    "Full_name = first_name + s + last_name"
   ]
  },
  {
   "cell_type": "code",
   "execution_count": 5,
   "id": "74412fa9",
   "metadata": {},
   "outputs": [
    {
     "data": {
      "text/plain": [
       "'Abdulkadir Abubakar'"
      ]
     },
     "execution_count": 5,
     "metadata": {},
     "output_type": "execute_result"
    }
   ],
   "source": [
    "Full_name"
   ]
  },
  {
   "cell_type": "code",
   "execution_count": 7,
   "id": "20355510",
   "metadata": {},
   "outputs": [],
   "source": [
    "Country = 'Nigeria'\n",
    "\n",
    "city = 'kebbi'\n",
    "\n",
    "age = 28\n",
    "\n",
    "year = 2023\n",
    "\n",
    "is_married = 'No'\n",
    "\n",
    "is_true = 'No'\n",
    "\n",
    "is_light_on = 'Yes'\n",
    "\n"
   ]
  },
  {
   "cell_type": "code",
   "execution_count": 9,
   "id": "c4bfb780",
   "metadata": {},
   "outputs": [
    {
     "name": "stdout",
     "output_type": "stream",
     "text": [
      "('Nigeria', 'kebbi', 28, 2023, 'No', 'No', 'Yes')\n"
     ]
    }
   ],
   "source": [
    "#Declaring Multiple variables on one line\n",
    "\n",
    "Contact = (Country, city, age, year, is_married, is_true, is_light_on)\n",
    "\n",
    "print(Contact)"
   ]
  },
  {
   "cell_type": "markdown",
   "id": "8cc144e6",
   "metadata": {},
   "source": [
    "# Level 2"
   ]
  },
  {
   "cell_type": "code",
   "execution_count": 12,
   "id": "9f9aeca7",
   "metadata": {},
   "outputs": [
    {
     "name": "stdout",
     "output_type": "stream",
     "text": [
      "<class 'str'>\n",
      "<class 'str'>\n",
      "<class 'str'>\n",
      "<class 'str'>\n",
      "<class 'str'>\n",
      "<class 'str'>\n",
      "<class 'int'>\n",
      "<class 'int'>\n",
      "<class 'str'>\n",
      "<class 'str'>\n",
      "<class 'str'>\n",
      "<class 'tuple'>\n"
     ]
    }
   ],
   "source": [
    "print(type(first_name))\n",
    "\n",
    "print(type(last_name)) \n",
    "\n",
    "print (type(s))\n",
    "\n",
    "print (type(Full_name))\n",
    "\n",
    "print(type(Country))\n",
    "\n",
    "print(type(city))\n",
    "\n",
    "print(type(age))\n",
    "\n",
    "print(type(year))\n",
    "\n",
    "print(type(is_married))\n",
    "\n",
    "print(type(is_true))\n",
    "\n",
    "print(type(is_light_on))\n",
    "\n",
    "print(type(Contact))"
   ]
  },
  {
   "cell_type": "code",
   "execution_count": 15,
   "id": "d671056d",
   "metadata": {},
   "outputs": [
    {
     "data": {
      "text/plain": [
       "10"
      ]
     },
     "execution_count": 15,
     "metadata": {},
     "output_type": "execute_result"
    }
   ],
   "source": [
    "#length of first name\n",
    "len(first_name)"
   ]
  },
  {
   "cell_type": "code",
   "execution_count": 19,
   "id": "4ea8c360",
   "metadata": {},
   "outputs": [
    {
     "name": "stdout",
     "output_type": "stream",
     "text": [
      "Length of first name: 10 Length of last name: 8\n"
     ]
    }
   ],
   "source": [
    "#Comparing length of first name and last name\n",
    "\n",
    "comparible = print('Length of first name:', len(first_name), 'Length of last name:', len(last_name))"
   ]
  },
  {
   "cell_type": "code",
   "execution_count": 21,
   "id": "64a4f223",
   "metadata": {},
   "outputs": [],
   "source": [
    "# Question 4\n",
    "\n",
    "num_one = 5\n",
    "num_two = 4\n",
    "\n",
    "add = num_one + num_two\n",
    "\n",
    "subt = num_one - num_two\n",
    "\n",
    "mult = num_two * num_one\n",
    "\n",
    "div = num_one / num_two\n",
    "\n",
    "mod = num_two % num_one\n",
    "\n",
    "power = num_one ** num_two\n",
    "\n",
    "floor = num_one // num_two"
   ]
  },
  {
   "cell_type": "code",
   "execution_count": 26,
   "id": "aa41b6a9",
   "metadata": {},
   "outputs": [
    {
     "name": "stdout",
     "output_type": "stream",
     "text": [
      "2827.7999999999997\n"
     ]
    }
   ],
   "source": [
    "# Question 5 \n",
    "r = 30 \n",
    "pie = 3.142\n",
    "\n",
    "area_of_circle = pie*(r**2)\n",
    "\n",
    "print(area_of_circle)\n",
    "\n",
    "\n"
   ]
  },
  {
   "cell_type": "code",
   "execution_count": 27,
   "id": "39e36a1b",
   "metadata": {},
   "outputs": [
    {
     "name": "stdout",
     "output_type": "stream",
     "text": [
      "188.51999999999998\n"
     ]
    }
   ],
   "source": [
    "circum_of_circle= 2*pie*r\n",
    "print(circum_of_circle)"
   ]
  },
  {
   "cell_type": "code",
   "execution_count": 36,
   "id": "eb3d0c4a",
   "metadata": {},
   "outputs": [
    {
     "name": "stdout",
     "output_type": "stream",
     "text": [
      "area_of_circle30\n",
      "2827.7999999999997\n"
     ]
    }
   ],
   "source": [
    "radius = float(input('area_of_circle'))\n",
    "\n",
    "area_of_cir = pie*radius**2\n",
    "print(area_of_cir)"
   ]
  },
  {
   "cell_type": "code",
   "execution_count": 39,
   "id": "f53190af",
   "metadata": {},
   "outputs": [
    {
     "name": "stdout",
     "output_type": "stream",
     "text": [
      "First Name: Abdulkadir\n",
      "Last Name: Abubakar\n",
      "Country: Nigeria\n",
      "Age: 28\n",
      "('Abdulkadir', 'Abubakar', 'Nigeria', '28')\n"
     ]
    }
   ],
   "source": [
    "names = input('First Name: '), input('Last Name: '), input('Country: '), input ('Age: ')\n",
    "\n",
    "print (names)"
   ]
  },
  {
   "cell_type": "code",
   "execution_count": 42,
   "id": "206a927a",
   "metadata": {},
   "outputs": [
    {
     "name": "stdout",
     "output_type": "stream",
     "text": [
      "\n",
      "Here is a list of the Python keywords.  Enter any keyword to get more help.\n",
      "\n",
      "False               break               for                 not\n",
      "None                class               from                or\n",
      "True                continue            global              pass\n",
      "__peg_parser__      def                 if                  raise\n",
      "and                 del                 import              return\n",
      "as                  elif                in                  try\n",
      "assert              else                is                  while\n",
      "async               except              lambda              with\n",
      "await               finally             nonlocal            yield\n",
      "\n"
     ]
    }
   ],
   "source": [
    "help('keywords')"
   ]
  },
  {
   "cell_type": "code",
   "execution_count": null,
   "id": "d111d959",
   "metadata": {},
   "outputs": [],
   "source": []
  }
 ],
 "metadata": {
  "kernelspec": {
   "display_name": "Python 3 (ipykernel)",
   "language": "python",
   "name": "python3"
  },
  "language_info": {
   "codemirror_mode": {
    "name": "ipython",
    "version": 3
   },
   "file_extension": ".py",
   "mimetype": "text/x-python",
   "name": "python",
   "nbconvert_exporter": "python",
   "pygments_lexer": "ipython3",
   "version": "3.9.13"
  }
 },
 "nbformat": 4,
 "nbformat_minor": 5
}
