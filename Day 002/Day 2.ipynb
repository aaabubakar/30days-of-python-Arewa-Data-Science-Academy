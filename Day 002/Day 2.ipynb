{
 "cells": [
  {
   "cell_type": "markdown",
   "id": "deea290d",
   "metadata": {},
   "source": [
    "# Variables in Python"
   ]
  },
  {
   "cell_type": "code",
   "execution_count": 1,
   "id": "54f87584",
   "metadata": {},
   "outputs": [],
   "source": [
    "First_name = \"Abubakar\"\n",
    "Last_Name = \"Abdulkadir\"\n",
    "Country = 'Nigeria'\n",
    "City = 'Kano'\n",
    "Age = '28'\n",
    "is_Married = 'False'\n",
    "Skills = ['HTML', 'CSS', 'JS', 'React', 'Python']\n",
    "Personal_Info = {'Firstname': 'Abubakar', 'Lastname': 'Abdulkadir', 'Country': 'Nigeria', 'City': 'Kano'}"
   ]
  },
  {
   "cell_type": "markdown",
   "id": "dcd9f984",
   "metadata": {},
   "source": [
    "# Printing the values stored in the variables"
   ]
  },
  {
   "cell_type": "code",
   "execution_count": 2,
   "id": "d2419d71",
   "metadata": {},
   "outputs": [
    {
     "name": "stdout",
     "output_type": "stream",
     "text": [
      "First Name: Abubakar\n"
     ]
    }
   ],
   "source": [
    "print ('First Name:', First_name)"
   ]
  },
  {
   "cell_type": "code",
   "execution_count": 3,
   "id": "bdafa32b",
   "metadata": {},
   "outputs": [
    {
     "name": "stdout",
     "output_type": "stream",
     "text": [
      "First Name Length: 8\n"
     ]
    }
   ],
   "source": [
    "print('First Name Length:', len (First_name))"
   ]
  },
  {
   "cell_type": "code",
   "execution_count": 4,
   "id": "c11d9f2b",
   "metadata": {},
   "outputs": [
    {
     "name": "stdout",
     "output_type": "stream",
     "text": [
      "Last Name: Abdulkadir\n"
     ]
    }
   ],
   "source": [
    "print('Last Name:', Last_Name)"
   ]
  },
  {
   "cell_type": "code",
   "execution_count": 5,
   "id": "87ec642b",
   "metadata": {},
   "outputs": [
    {
     "name": "stdout",
     "output_type": "stream",
     "text": [
      "Last Name Length: 10\n"
     ]
    }
   ],
   "source": [
    "print('Last Name Length:', len(Last_Name))"
   ]
  },
  {
   "cell_type": "code",
   "execution_count": 6,
   "id": "28f7a582",
   "metadata": {},
   "outputs": [
    {
     "name": "stdout",
     "output_type": "stream",
     "text": [
      "Country: Nigeria\n"
     ]
    }
   ],
   "source": [
    "print('Country:', Country)"
   ]
  },
  {
   "cell_type": "code",
   "execution_count": 7,
   "id": "b1632cf8",
   "metadata": {},
   "outputs": [
    {
     "name": "stdout",
     "output_type": "stream",
     "text": [
      "City: Kano\n"
     ]
    }
   ],
   "source": [
    "print('City:', City)"
   ]
  },
  {
   "cell_type": "code",
   "execution_count": 8,
   "id": "495013ac",
   "metadata": {},
   "outputs": [
    {
     "name": "stdout",
     "output_type": "stream",
     "text": [
      "Age: 28\n"
     ]
    }
   ],
   "source": [
    "print ('Age:', Age)"
   ]
  },
  {
   "cell_type": "code",
   "execution_count": 9,
   "id": "c2aa9e13",
   "metadata": {},
   "outputs": [
    {
     "name": "stdout",
     "output_type": "stream",
     "text": [
      "Skills: ['HTML', 'CSS', 'JS', 'React', 'Python']\n"
     ]
    }
   ],
   "source": [
    "print ('Skills:', Skills)"
   ]
  },
  {
   "cell_type": "code",
   "execution_count": 11,
   "id": "f032feb2",
   "metadata": {},
   "outputs": [
    {
     "name": "stdout",
     "output_type": "stream",
     "text": [
      "Personal Information: {'Firstname': 'Abubakar', 'Lastname': 'Abdulkadir', 'Country': 'Nigeria', 'City': 'Kano'}\n"
     ]
    }
   ],
   "source": [
    "print ('Personal Information:', Personal_Info)"
   ]
  },
  {
   "cell_type": "markdown",
   "id": "702adbd1",
   "metadata": {},
   "source": [
    "## Declaring multiple variables in one line"
   ]
  },
  {
   "cell_type": "code",
   "execution_count": 13,
   "id": "6844ba5d",
   "metadata": {},
   "outputs": [
    {
     "name": "stdout",
     "output_type": "stream",
     "text": [
      "Abubakar Abdulkadir Nigeria 28 False\n"
     ]
    }
   ],
   "source": [
    "print(First_name, Last_Name, Country, Age, is_Married)"
   ]
  },
  {
   "cell_type": "code",
   "execution_count": 15,
   "id": "614c39ea",
   "metadata": {},
   "outputs": [
    {
     "name": "stdout",
     "output_type": "stream",
     "text": [
      "First name: Abubakar\n",
      "Last name:  Abdulkadir\n",
      "Country:  Nigeria\n",
      "Age:  28\n",
      "Married:  False\n"
     ]
    }
   ],
   "source": [
    "print('First name:', First_name)\n",
    "print('Last name: ', Last_Name)\n",
    "print('Country: ', Country)\n",
    "print('Age: ', Age)\n",
    "print('Married: ', is_Married)"
   ]
  },
  {
   "cell_type": "code",
   "execution_count": null,
   "id": "4c929962",
   "metadata": {},
   "outputs": [],
   "source": []
  }
 ],
 "metadata": {
  "kernelspec": {
   "display_name": "Python 3 (ipykernel)",
   "language": "python",
   "name": "python3"
  },
  "language_info": {
   "codemirror_mode": {
    "name": "ipython",
    "version": 3
   },
   "file_extension": ".py",
   "mimetype": "text/x-python",
   "name": "python",
   "nbconvert_exporter": "python",
   "pygments_lexer": "ipython3",
   "version": "3.9.13"
  }
 },
 "nbformat": 4,
 "nbformat_minor": 5
}
