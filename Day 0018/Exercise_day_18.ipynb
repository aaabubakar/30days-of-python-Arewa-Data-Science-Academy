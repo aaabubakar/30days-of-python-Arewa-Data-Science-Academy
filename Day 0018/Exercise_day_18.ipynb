{
 "cells": [
  {
   "cell_type": "markdown",
   "id": "9d5e32ac",
   "metadata": {},
   "source": [
    "# Exercise Day 18"
   ]
  },
  {
   "cell_type": "markdown",
   "id": "7369e55c",
   "metadata": {},
   "source": [
    "# Regular Expression"
   ]
  },
  {
   "cell_type": "markdown",
   "id": "4bec5b4b",
   "metadata": {},
   "source": [
    "#  What is the most frequent word in the following paragraph?\n",
    "\n",
    "# paragraph = 'I love teaching. If you do not love teaching what else can you love. I love Python if you do not love something which can give you all the capabilities to develop an application what else can you lov"
   ]
  },
  {
   "cell_type": "code",
   "execution_count": 2,
   "id": "5e33fbcb",
   "metadata": {},
   "outputs": [
    {
     "name": "stdout",
     "output_type": "stream",
     "text": [
      "[('love', 6), ('you', 5), ('can', 3), ('I', 2), ('teaching', 2), ('do', 2), ('not', 2), ('what', 2), ('else', 2), ('If', 1), ('Python', 1), ('if', 1), ('something', 1), ('which', 1), ('give', 1), ('all', 1), ('the', 1), ('capabilities', 1), ('to', 1), ('develop', 1), ('an', 1), ('application', 1)]\n"
     ]
    }
   ],
   "source": [
    "import re\n",
    "\n",
    "paragraph = 'I love teaching. If you do not love teaching what else can you love. I love Python if you do not love something which can give you all the capabilities to develop an application what else can you love.'\n",
    "\n",
    "words = re.findall(r'\\b\\w+\\b', paragraph)\n",
    "\n",
    "word_count = {}\n",
    "for word in words:\n",
    "    if word in word_count:\n",
    "        word_count[word] += 1\n",
    "    else:\n",
    "        word_count[word] = 1\n",
    "\n",
    "word_list = sorted(word_count.items(), key=lambda x: x[1], reverse=True)\n",
    "\n",
    "print(word_list)\n"
   ]
  },
  {
   "cell_type": "markdown",
   "id": "77f82eaa",
   "metadata": {},
   "source": [
    "# The position of some particles on the horizontal x-axis are -12, -4, -3 and -1 in the negative direction, 0 at origin, 4 and 8 in the positive direction. Extract these numbers from this whole text and find the distance between the two furthest particles.\n",
    "\n",
    "# points = ['-1', '2', '-4', '-3', '-1', '0', '4', '8']\n",
    "# sorted_points =  [-4, -3, -1, -1, 0, 2, 4, 8]\n",
    "# distance = 8 -(-4) # 12"
   ]
  },
  {
   "cell_type": "code",
   "execution_count": 25,
   "id": "5000d1bd",
   "metadata": {},
   "outputs": [
    {
     "name": "stdout",
     "output_type": "stream",
     "text": [
      "The extracted numbers are:  ['-12', '-4', '-3', '-1', '0', '4', '8']\n",
      "[-12, -4, -3, -1, 0, 4, 8]\n",
      "[-12, -4, -3, -1, 0, 4, 8]\n",
      "The distance between the furthest points is =  20\n"
     ]
    }
   ],
   "source": [
    "sen ='The position of some particles on the horizontal x-axis are -12, -4, -3 and -1 in the negative direction, 0 at origin, 4 and 8 in the positive direction'\n",
    "reg = r'-?\\d+'\n",
    "new = re.findall(reg, sen)\n",
    "\n",
    "print(\"The extracted numbers are: \",new)\n",
    "\n",
    "new_int = [int(i) for i in new]\n",
    "#The numbers are converted to integers\n",
    "print(new_int)\n",
    "\n",
    "#The list is sorted to check for furthest distance\n",
    "sorted_new = sorted(new_int)\n",
    "print(sorted_new)\n",
    "\n",
    "#The distance between the furthest point\n",
    "distance = (sorted_new[-1] - sorted_new[0])\n",
    "print('The distance between the furthest points is = ', distance)"
   ]
  },
  {
   "cell_type": "markdown",
   "id": "102443c1",
   "metadata": {},
   "source": [
    "# Write a pattern which identifies if a string is a valid python variable\n",
    "\n",
    "# is_valid_variable('first_name') # True\n",
    "# is_valid_variable('first-name') # False\n",
    "# is_valid_variable('1first_name') # False\n",
    "# is_valid_variable('firstname') # True"
   ]
  },
  {
   "cell_type": "code",
   "execution_count": 31,
   "id": "31a36e76",
   "metadata": {},
   "outputs": [
    {
     "name": "stdout",
     "output_type": "stream",
     "text": [
      "firstname: True\n",
      "1firstname: False\n",
      "_firstname: True\n"
     ]
    }
   ],
   "source": [
    "def is_valid_variable(s):\n",
    "    pattern = r'^[a-zA-Z_][a-zA-Z0-9_]*$'\n",
    "    return bool(re.match(pattern, s))\n",
    "\n",
    "print('firstname:', is_valid_variable('firstname'))\n",
    "print('1firstname:', is_valid_variable('1firstname'))\n",
    "print('_firstname:', is_valid_variable('_firstname'))"
   ]
  },
  {
   "cell_type": "markdown",
   "id": "c0fec193",
   "metadata": {},
   "source": [
    "# Clean the following text. After cleaning, count three most frequent words in the string.\n",
    "\n",
    "# sentence = '''%I # $am@% a %tea@cher%, &and& I lo%#ve %tea@ching%;. There $is nothing; &as& mo@re rewarding as educa@ting &and& @emp%o@wering peo@ple. ;I found tea@ching m%o@re interesting tha@n any other %jo@bs. %Do@es thi%s mo@tivate yo@u to be a tea@cher!?'''\n",
    "\n",
    "# print(clean_text(sentence));\n",
    "# I am a teacher and I love teaching There is nothing as more rewarding as educating and empowering people I found teaching more interesting than any other jobs Does this motivate you to be a teacher\n",
    "# print(most_frequent_words(cleaned_text)) # [(3, 'I'), (2, 'teaching'), (2, 'teacher')]"
   ]
  },
  {
   "cell_type": "code",
   "execution_count": null,
   "id": "47fc7595",
   "metadata": {},
   "outputs": [],
   "source": [
    "import re\n",
    "from collections import Counter\n",
    "\n",
    "def clean_text(text):\n",
    "    # Remove special characters, numbers, and convert to lowercase\n",
    "    cleaned = re.sub(r'[^a-zA-Z\\s]', '', text)\n",
    "    cleaned = re.sub(r'\\s+', ' ', cleaned)\n",
    "    cleaned = cleaned.lower().strip()\n",
    "    return cleaned\n",
    "\n",
    "sentence = '''%I $am@% a %tea@cher%, &and& I lo%#ve %tea@ching%;. There $is nothing; &as& mo@re rewarding as educa@ting &and& @emp%o@wering peo@ple. ;I found tea@ching m%o@re interesting tha@n any other %jo@bs. %Do@es thi%s mo@tivate yo@u to be a tea@cher!?'''\n",
    "\n",
    "cleaned_text = clean_text(sentence)\n",
    "print(cleaned_text)\n",
    "\n",
    "# Find the three most frequent words\n",
    "word_counts = Counter(cleaned_text.split())\n",
    "top_words = word_counts.most_common(3)\n",
    "print(top_words)\n"
   ]
  },
  {
   "cell_type": "code",
   "execution_count": null,
   "id": "0d237802",
   "metadata": {},
   "outputs": [],
   "source": []
  }
 ],
 "metadata": {
  "kernelspec": {
   "display_name": "Python 3 (ipykernel)",
   "language": "python",
   "name": "python3"
  },
  "language_info": {
   "codemirror_mode": {
    "name": "ipython",
    "version": 3
   },
   "file_extension": ".py",
   "mimetype": "text/x-python",
   "name": "python",
   "nbconvert_exporter": "python",
   "pygments_lexer": "ipython3",
   "version": "3.9.13"
  }
 },
 "nbformat": 4,
 "nbformat_minor": 5
}
