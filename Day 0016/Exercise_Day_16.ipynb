{
 "cells": [
  {
   "cell_type": "markdown",
   "id": "a6094d8b",
   "metadata": {},
   "source": [
    "# Exercise Day 16"
   ]
  },
  {
   "cell_type": "markdown",
   "id": "66493220",
   "metadata": {},
   "source": [
    "## Python datetime"
   ]
  },
  {
   "cell_type": "markdown",
   "id": "b4d2a8fb",
   "metadata": {},
   "source": [
    "# 1. Get the current day, month, year, hour, minute and timestamp from datetime module"
   ]
  },
  {
   "cell_type": "code",
   "execution_count": 4,
   "id": "47f6e897",
   "metadata": {},
   "outputs": [
    {
     "name": "stdout",
     "output_type": "stream",
     "text": [
      "2023-02-20 10:41:20.900897\n"
     ]
    }
   ],
   "source": [
    "from datetime import datetime\n",
    "\n",
    "now = datetime.now()\n",
    "print(now)"
   ]
  },
  {
   "cell_type": "markdown",
   "id": "9b516a2f",
   "metadata": {},
   "source": [
    "# 2. Format the current date using this format: \"%m/%d/%Y, %H:%M:%S\")"
   ]
  },
  {
   "cell_type": "code",
   "execution_count": 8,
   "id": "b072ac05",
   "metadata": {},
   "outputs": [
    {
     "name": "stdout",
     "output_type": "stream",
     "text": [
      "02/20/2023, 10:41:20\n"
     ]
    }
   ],
   "source": [
    "format_ = now.strftime(\"%m/%d/%Y, %H:%M:%S\")\n",
    "\n",
    "print(format_)"
   ]
  },
  {
   "cell_type": "markdown",
   "id": "e84c2957",
   "metadata": {},
   "source": [
    "# 3. Today is 5 December, 2019. Change this time string to time."
   ]
  },
  {
   "cell_type": "code",
   "execution_count": 11,
   "id": "2254bccb",
   "metadata": {},
   "outputs": [
    {
     "name": "stdout",
     "output_type": "stream",
     "text": [
      "Coverted date to time is : 2019-12-05 00:00:00\n"
     ]
    }
   ],
   "source": [
    "today = '5 December, 2019'\n",
    "# changing th string today to time\n",
    "\n",
    "time = datetime.strptime(today, '%d %B, %Y')\n",
    "\n",
    "print('Coverted date to time is :', time)"
   ]
  },
  {
   "cell_type": "markdown",
   "id": "76fc6bec",
   "metadata": {},
   "source": [
    "# 4. Calculate the time difference between now and new year."
   ]
  },
  {
   "cell_type": "code",
   "execution_count": 23,
   "id": "77ce8262",
   "metadata": {},
   "outputs": [
    {
     "name": "stdout",
     "output_type": "stream",
     "text": [
      "Time left to new year is :  314 days, 12:56:13.402708\n"
     ]
    }
   ],
   "source": [
    "# Today\n",
    "today_ = datetime.now()\n",
    "\n",
    "# New year\n",
    "new_year = datetime(year = 2024, month = 1, day = 1 , hour = 0, minute = 0, second = 0 )\n",
    "\n",
    "# Time to New year\n",
    "time_to_new_year = new_year - today_\n",
    "\n",
    "print('Time left to new year is : ', time_to_new_year)"
   ]
  },
  {
   "cell_type": "markdown",
   "id": "b3abeec5",
   "metadata": {},
   "source": [
    "# 5. Calculate the time difference between 1 January 1970 and now."
   ]
  },
  {
   "cell_type": "code",
   "execution_count": 25,
   "id": "71fe585a",
   "metadata": {},
   "outputs": [
    {
     "name": "stdout",
     "output_type": "stream",
     "text": [
      "The time difference between today and 1 January 1970 is : 19408 days, 0:00:00\n"
     ]
    }
   ],
   "source": [
    "now_ = date.today() \n",
    "\n",
    "year = date (year = 1970, month = 1, day = 1)\n",
    "\n",
    "diff = now_ - year\n",
    "\n",
    "print (\"The time difference between today and 1 January 1970 is :\", diff)"
   ]
  },
  {
   "cell_type": "markdown",
   "id": "87d54ba6",
   "metadata": {},
   "source": [
    "# 6. Think, what can you use the datetime module for? Examples:Time series analysis,To get a timestamp of any activities in an application, Adding posts on a blog"
   ]
  },
  {
   "cell_type": "code",
   "execution_count": null,
   "id": "c9986dfa",
   "metadata": {},
   "outputs": [],
   "source": []
  }
 ],
 "metadata": {
  "kernelspec": {
   "display_name": "Python 3 (ipykernel)",
   "language": "python",
   "name": "python3"
  },
  "language_info": {
   "codemirror_mode": {
    "name": "ipython",
    "version": 3
   },
   "file_extension": ".py",
   "mimetype": "text/x-python",
   "name": "python",
   "nbconvert_exporter": "python",
   "pygments_lexer": "ipython3",
   "version": "3.9.13"
  }
 },
 "nbformat": 4,
 "nbformat_minor": 5
}
