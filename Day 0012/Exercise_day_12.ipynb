{
 "cells": [
  {
   "cell_type": "markdown",
   "id": "c7b7b561",
   "metadata": {},
   "source": [
    "# Exercise Day 12"
   ]
  },
  {
   "cell_type": "markdown",
   "id": "b6083d1f",
   "metadata": {},
   "source": [
    "## Level 1"
   ]
  },
  {
   "cell_type": "code",
   "execution_count": 1,
   "id": "61f24c0b",
   "metadata": {},
   "outputs": [
    {
     "name": "stdout",
     "output_type": "stream",
     "text": [
      "mh23lz\n"
     ]
    }
   ],
   "source": [
    "# Question 1\n",
    "\n",
    "import random\n",
    "import string\n",
    "\n",
    "def generate_random_user_id():\n",
    "    characters = string.ascii_letters + string.digits\n",
    "    return ''.join(random.choice(characters) for i in range(6))\n",
    "\n",
    "print(generate_random_user_id())\n",
    "\n"
   ]
  },
  {
   "cell_type": "code",
   "execution_count": 15,
   "id": "51d00884",
   "metadata": {},
   "outputs": [
    {
     "name": "stdout",
     "output_type": "stream",
     "text": [
      "Enter the number of characters in each user ID: 5\n",
      "Enter the number of user IDs to generate: 6\n",
      "['U7vj7', 'u4rtx', '0NvyN', 'XSf7B', 'R3g2u', 'bsT3J']\n"
     ]
    }
   ],
   "source": [
    "# Questionn 2\n",
    "def user_id_gen_by_user():\n",
    "    num_chars = int(input(\"Enter the number of characters in each user ID: \"))\n",
    "    num_ids = int(input(\"Enter the number of user IDs to generate: \"))\n",
    "    characters = string.ascii_letters + string.digits\n",
    "\n",
    "    user_ids = []\n",
    "    for i in range(num_ids):\n",
    "        user_id = ''.join(random.choice(characters) for j in range(num_chars))\n",
    "        user_ids.append(user_id)\n",
    "\n",
    "    return user_ids\n",
    "\n",
    "\n",
    "print(user_id_gen_by_user())\n"
   ]
  },
  {
   "cell_type": "code",
   "execution_count": 10,
   "id": "464df888",
   "metadata": {},
   "outputs": [
    {
     "name": "stdout",
     "output_type": "stream",
     "text": [
      "rgb(121, 72, 108)\n"
     ]
    }
   ],
   "source": [
    "# Question 3\n",
    "\n",
    "def rgb_color_gen():\n",
    "    red = random.randint(0, 255)\n",
    "    green = random.randint(0, 255)\n",
    "    blue = random.randint(0, 255)\n",
    "    return \"rgb({}, {}, {})\".format(red, green, blue)\n",
    "\n",
    "\n",
    "print(rgb_color_gen())\n"
   ]
  },
  {
   "cell_type": "markdown",
   "id": "cb79cc14",
   "metadata": {},
   "source": [
    "## Level 2"
   ]
  },
  {
   "cell_type": "code",
   "execution_count": 12,
   "id": "d5f59ddf",
   "metadata": {},
   "outputs": [
    {
     "name": "stdout",
     "output_type": "stream",
     "text": [
      "['#c76f39', '#a60a61', '#4011c5', '#2df0f1', '#f19830']\n"
     ]
    }
   ],
   "source": [
    "# Question 1\n",
    "\n",
    "def list_of_hexa_colors(num_colors):\n",
    "    hexa_chars = string.digits + 'abcdef'\n",
    "\n",
    "    hexa_colors = []\n",
    "    for i in range(num_colors):\n",
    "        hexa_color = ''.join(random.choice(hexa_chars) for j in range(6))\n",
    "        hexa_colors.append('#' + hexa_color)\n",
    "\n",
    "    return hexa_colors\n",
    "\n",
    "\n",
    "\n",
    "print(list_of_hexa_colors(5))\n"
   ]
  },
  {
   "cell_type": "code",
   "execution_count": 13,
   "id": "83d1aba5",
   "metadata": {},
   "outputs": [
    {
     "name": "stdout",
     "output_type": "stream",
     "text": [
      "[(109, 57, 181), (73, 6, 142), (59, 39, 191), (167, 83, 81), (51, 132, 174)]\n"
     ]
    }
   ],
   "source": [
    "# Question 2\n",
    "\n",
    "def list_of_rgb_colors(num_colors):\n",
    "    rgb_colors = []\n",
    "    for i in range(num_colors):\n",
    "        red = random.randint(0, 255)\n",
    "        green = random.randint(0, 255)\n",
    "        blue = random.randint(0, 255)\n",
    "        rgb_colors.append((red, green, blue))\n",
    "\n",
    "    return rgb_colors\n",
    "\n",
    "print(list_of_rgb_colors(5))\n"
   ]
  },
  {
   "cell_type": "code",
   "execution_count": 14,
   "id": "0c4914c5",
   "metadata": {},
   "outputs": [
    {
     "name": "stdout",
     "output_type": "stream",
     "text": [
      "['#fb3b61', '#32235e', '#657cba', '#245a99', '#cee714']\n",
      "['rgb(96, 250, 115)', 'rgb(251, 196, 151)', 'rgb(107, 72, 240)']\n"
     ]
    }
   ],
   "source": [
    "# Question 3\n",
    "\n",
    "def generate_colors(num_colors, color_format):\n",
    "    if color_format == 'hex':\n",
    "        hexa_chars = string.digits + 'abcdef'\n",
    "        colors = []\n",
    "        for i in range(num_colors):\n",
    "            hexa_color = ''.join(random.choice(hexa_chars) for j in range(6))\n",
    "            colors.append('#' + hexa_color)\n",
    "    elif color_format == 'rgb':\n",
    "        colors = []\n",
    "        for i in range(num_colors):\n",
    "            red = random.randint(0, 255)\n",
    "            green = random.randint(0, 255)\n",
    "            blue = random.randint(0, 255)\n",
    "            colors.append('rgb({}, {}, {})'.format(red, green, blue))\n",
    "    else:\n",
    "        return None\n",
    "\n",
    "    return colors\n",
    "print(generate_colors(5, 'hex'))\n",
    "print(generate_colors(3, 'rgb'))"
   ]
  },
  {
   "cell_type": "markdown",
   "id": "c8f64477",
   "metadata": {},
   "source": [
    "## Level 3"
   ]
  },
  {
   "cell_type": "code",
   "execution_count": 16,
   "id": "d0db5cae",
   "metadata": {},
   "outputs": [
    {
     "name": "stdout",
     "output_type": "stream",
     "text": [
      "[5, 1, 3, 4, 2, 6]\n"
     ]
    }
   ],
   "source": [
    "# Question 1\n",
    "def shuffle_list(input_list):\n",
    "    shuffled_list = input_list.copy()\n",
    "    random.shuffle(shuffled_list)\n",
    "    return shuffled_list\n",
    "\n",
    "my_list = [1, 2, 3, 4, 5, 6]\n",
    "print(shuffle_list(my_list))\n"
   ]
  },
  {
   "cell_type": "code",
   "execution_count": 17,
   "id": "ec10c0b7",
   "metadata": {},
   "outputs": [
    {
     "name": "stdout",
     "output_type": "stream",
     "text": [
      "[0, 2, 9, 5, 1, 4, 6]\n"
     ]
    }
   ],
   "source": [
    "# Question 2\n",
    "\n",
    "def generate_unique_numbers():\n",
    "    numbers = random.sample(range(10), 7)\n",
    "    return numbers\n",
    "\n",
    "print(generate_unique_numbers())\n"
   ]
  },
  {
   "cell_type": "code",
   "execution_count": null,
   "id": "c719e55c",
   "metadata": {},
   "outputs": [],
   "source": []
  }
 ],
 "metadata": {
  "kernelspec": {
   "display_name": "Python 3 (ipykernel)",
   "language": "python",
   "name": "python3"
  },
  "language_info": {
   "codemirror_mode": {
    "name": "ipython",
    "version": 3
   },
   "file_extension": ".py",
   "mimetype": "text/x-python",
   "name": "python",
   "nbconvert_exporter": "python",
   "pygments_lexer": "ipython3",
   "version": "3.9.13"
  }
 },
 "nbformat": 4,
 "nbformat_minor": 5
}
