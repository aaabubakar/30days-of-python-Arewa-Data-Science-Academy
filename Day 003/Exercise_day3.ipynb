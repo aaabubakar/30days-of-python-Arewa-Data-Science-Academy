{
 "cells": [
  {
   "cell_type": "markdown",
   "id": "924b3ecc",
   "metadata": {},
   "source": [
    "# Exercise Day 3"
   ]
  },
  {
   "cell_type": "code",
   "execution_count": 1,
   "id": "3bab09b3",
   "metadata": {},
   "outputs": [],
   "source": [
    "#Question 1\n",
    "\n",
    "Age = 28\n"
   ]
  },
  {
   "cell_type": "code",
   "execution_count": 2,
   "id": "a076e33e",
   "metadata": {},
   "outputs": [],
   "source": [
    "#Question 2\n",
    "Height = 1.66"
   ]
  },
  {
   "cell_type": "code",
   "execution_count": 3,
   "id": "01a29f97",
   "metadata": {},
   "outputs": [],
   "source": [
    "#Question 3\n",
    "# Declare a variable that stores a complex Number\n",
    "\n",
    "complx = 4 + 3j"
   ]
  },
  {
   "cell_type": "code",
   "execution_count": 4,
   "id": "8d26a0e0",
   "metadata": {},
   "outputs": [
    {
     "name": "stdout",
     "output_type": "stream",
     "text": [
      "Enter Base: 2\n",
      "Enter Height: 3\n",
      "The area of the triangle is 6\n"
     ]
    }
   ],
   "source": [
    "#Question 4\n",
    "# Area of a triangle \n",
    "\n",
    "base = int(input('Enter Base: '))\n",
    "height = int(input ('Enter Height: '))\n",
    "\n",
    "Area_of_triangle = base * height \n",
    "\n",
    "print('The area of the triangle is', Area_of_triangle)"
   ]
  },
  {
   "cell_type": "code",
   "execution_count": 5,
   "id": "ea67bb90",
   "metadata": {},
   "outputs": [
    {
     "name": "stdout",
     "output_type": "stream",
     "text": [
      "Enter Side a: 2\n",
      "Enter Side b: 3\n",
      "Enter Side a: 4\n",
      "The perimeter of the triangle is  9\n"
     ]
    }
   ],
   "source": [
    "#Question 5\n",
    "# Calculating the perimeter if a TRIANGLE\n",
    "\n",
    "side_a = int(input('Enter Side a: '))\n",
    "side_b = int(input('Enter Side b: '))\n",
    "side_c = int(input('Enter Side a: '))\n",
    "\n",
    "perim = side_a + side_b + side_c\n",
    "\n",
    "print('The perimeter of the triangle is ', perim)"
   ]
  },
  {
   "cell_type": "code",
   "execution_count": 6,
   "id": "112d330c",
   "metadata": {},
   "outputs": [
    {
     "name": "stdout",
     "output_type": "stream",
     "text": [
      "Enter Length2\n",
      "Enter Width3\n",
      "Area of the Rectangle is :  6\n",
      "The perimeter is:  12\n"
     ]
    }
   ],
   "source": [
    "#Question 6\n",
    "#Getting length of and width of a rectangle using prompt.\n",
    "\n",
    "length = int(input('Enter Length'))\n",
    "width = int(input('Enter Width'))\n",
    "Area = length * width\n",
    "print ('Area of the Rectangle is : ', Area)\n",
    "\n",
    "perim = 2 * Area\n",
    "\n",
    "print ('The perimeter is: ', perim)"
   ]
  },
  {
   "cell_type": "code",
   "execution_count": 7,
   "id": "cd72d771",
   "metadata": {},
   "outputs": [
    {
     "name": "stdout",
     "output_type": "stream",
     "text": [
      "Enter Radius: 3\n",
      "Area is:  28.278\n",
      "The circumference is:  18.852\n"
     ]
    }
   ],
   "source": [
    "#Question 7\n",
    "pi = 3.142\n",
    "radius = int(input('Enter Radius: '))\n",
    "area = pi * (radius**2)\n",
    "\n",
    "print ('Area is: ', area)\n",
    "\n",
    "c = 2 * pi * radius\n",
    "\n",
    "print ('The circumference is: ', c)\n"
   ]
  },
  {
   "cell_type": "code",
   "execution_count": 80,
   "id": "a3791d54",
   "metadata": {},
   "outputs": [],
   "source": [
    "# Question 8\n",
    "# Using the equation y = mx + b where m is the slope then the slope of y = 2x -2 is 2 and the intercept can be gotten below\n",
    "\n",
    "def intercept():\n",
    "    \n",
    "    val = input('What intercept do you want (x or y)? ')\n",
    "\n",
    "    if val.lower() == 'x':\n",
    "        y = 0\n",
    "        x = (y + 2)/2\n",
    "        return x\n",
    "    elif val.lower() == 'y':\n",
    "        x = 0\n",
    "        y = (2*x)-2\n",
    "        return y\n",
    "    else:\n",
    "        intercept()   \n",
    "\n",
    "slope_8 = 2"
   ]
  },
  {
   "cell_type": "code",
   "execution_count": 17,
   "id": "6c451669",
   "metadata": {},
   "outputs": [
    {
     "name": "stdout",
     "output_type": "stream",
     "text": [
      "What intercept do you want (x or y)? x\n"
     ]
    },
    {
     "data": {
      "text/plain": [
       "1.0"
      ]
     },
     "execution_count": 17,
     "metadata": {},
     "output_type": "execute_result"
    }
   ],
   "source": [
    "intercept()"
   ]
  },
  {
   "cell_type": "code",
   "execution_count": 18,
   "id": "69869841",
   "metadata": {},
   "outputs": [
    {
     "name": "stdout",
     "output_type": "stream",
     "text": [
      "What intercept do you want (x or y)? y\n"
     ]
    },
    {
     "data": {
      "text/plain": [
       "-2"
      ]
     },
     "execution_count": 18,
     "metadata": {},
     "output_type": "execute_result"
    }
   ],
   "source": [
    "intercept()"
   ]
  },
  {
   "cell_type": "code",
   "execution_count": 79,
   "id": "91cd7a24",
   "metadata": {},
   "outputs": [
    {
     "name": "stdout",
     "output_type": "stream",
     "text": [
      "The Slope is given by:  2.0\n",
      "The Euclidian Distance is gotten to be:  8.94427190999916\n"
     ]
    }
   ],
   "source": [
    "#Question 9\n",
    "import math\n",
    "\n",
    "def slope(x1, y1, x2, y2):\n",
    "    s = (y2-y1)/(x2-x1)\n",
    "    return s\n",
    "\n",
    "print ('The Slope is given by: ', slope(2,2,6,10)) \n",
    "\n",
    "slope_9 = slope(2,2,6,10)\n",
    "\n",
    "p1 = (2,2)\n",
    "p2 = (6,10)\n",
    "\n",
    "print('The Euclidian Distance is gotten to be: ', math.dist(p1,p2))\n",
    "\n"
   ]
  },
  {
   "cell_type": "code",
   "execution_count": 81,
   "id": "17e4c9f4",
   "metadata": {},
   "outputs": [
    {
     "data": {
      "text/plain": [
       "True"
      ]
     },
     "execution_count": 81,
     "metadata": {},
     "output_type": "execute_result"
    }
   ],
   "source": [
    "#Question 10\n",
    "# The slope of question 8 is 2 and that of ques\n",
    "slope_8 == slope_9"
   ]
  },
  {
   "cell_type": "code",
   "execution_count": 74,
   "id": "147d2801",
   "metadata": {},
   "outputs": [
    {
     "name": "stdout",
     "output_type": "stream",
     "text": [
      " at x = -3  :y = 0\n",
      " at x = -2  :y = 1\n",
      " at x = -1  :y = 4\n",
      " at x = 0  :y = 9\n",
      " at x = 1  :y = 16\n",
      " at x = 2  :y = 25\n",
      "y is gotten to be 0 at x = -3\n"
     ]
    }
   ],
   "source": [
    "#Question 11\n",
    "for i in range(-3,3):\n",
    "    x = i\n",
    "    y = (x**2)+ (6*x)+ 9\n",
    "    print ( \" at x =\", i, \" :y =\", y, )\n",
    "    \n",
    "print(\"y is gotten to be 0 at x = -3\")"
   ]
  },
  {
   "cell_type": "code",
   "execution_count": 19,
   "id": "7353b8aa",
   "metadata": {},
   "outputs": [
    {
     "data": {
      "text/plain": [
       "6"
      ]
     },
     "execution_count": 19,
     "metadata": {},
     "output_type": "execute_result"
    }
   ],
   "source": [
    "#Question 12\n",
    "\n",
    "len('Python') and len('Dragon')"
   ]
  },
  {
   "cell_type": "code",
   "execution_count": 22,
   "id": "512f6ebb",
   "metadata": {},
   "outputs": [
    {
     "data": {
      "text/plain": [
       "True"
      ]
     },
     "execution_count": 22,
     "metadata": {},
     "output_type": "execute_result"
    }
   ],
   "source": [
    "# Question 13\n",
    "\n",
    "'on' in 'python' and 'on' in 'dragon'"
   ]
  },
  {
   "cell_type": "code",
   "execution_count": 23,
   "id": "b4677fd6",
   "metadata": {},
   "outputs": [
    {
     "data": {
      "text/plain": [
       "True"
      ]
     },
     "execution_count": 23,
     "metadata": {},
     "output_type": "execute_result"
    }
   ],
   "source": [
    "# Question 14\n",
    "sent = 'i hope this course is not full of jargon'\n",
    "\n",
    "'jargon' in sent"
   ]
  },
  {
   "cell_type": "code",
   "execution_count": 25,
   "id": "337198c8",
   "metadata": {},
   "outputs": [
    {
     "data": {
      "text/plain": [
       "False"
      ]
     },
     "execution_count": 25,
     "metadata": {},
     "output_type": "execute_result"
    }
   ],
   "source": [
    "# Question 15\n",
    "\n",
    "'on' not in 'dragon' and 'python'"
   ]
  },
  {
   "cell_type": "code",
   "execution_count": 47,
   "id": "a8bd6f3b",
   "metadata": {},
   "outputs": [
    {
     "data": {
      "text/plain": [
       "'6'"
      ]
     },
     "execution_count": 47,
     "metadata": {},
     "output_type": "execute_result"
    }
   ],
   "source": [
    "# Question 16\n",
    "\n",
    "leng = len('python')\n",
    "\n",
    "str(leng)\n",
    "\n",
    "\n"
   ]
  },
  {
   "cell_type": "code",
   "execution_count": 46,
   "id": "3ca079ad",
   "metadata": {},
   "outputs": [
    {
     "data": {
      "text/plain": [
       "6.0"
      ]
     },
     "execution_count": 46,
     "metadata": {},
     "output_type": "execute_result"
    }
   ],
   "source": [
    "float(leng)"
   ]
  },
  {
   "cell_type": "code",
   "execution_count": 58,
   "id": "a9a2d4a1",
   "metadata": {},
   "outputs": [
    {
     "name": "stdout",
     "output_type": "stream",
     "text": [
      "Enter any number to test whether it is odd or even: 3\n",
      "The provided number is odd\n"
     ]
    }
   ],
   "source": [
    "# Question 17\n",
    "num = int(input('Enter any number to test whether it is odd or even: '))\n",
    "\n",
    "if (num % 2) == 0:\n",
    "    print('The number is even')\n",
    "else:\n",
    "    print('The provided number is odd')\n",
    "           "
   ]
  },
  {
   "cell_type": "code",
   "execution_count": 59,
   "id": "99d88838",
   "metadata": {},
   "outputs": [
    {
     "data": {
      "text/plain": [
       "True"
      ]
     },
     "execution_count": 59,
     "metadata": {},
     "output_type": "execute_result"
    }
   ],
   "source": [
    "# Question 18\n",
    "\n",
    "7//3 == int(2.7)"
   ]
  },
  {
   "cell_type": "code",
   "execution_count": 60,
   "id": "c61821ff",
   "metadata": {},
   "outputs": [
    {
     "data": {
      "text/plain": [
       "False"
      ]
     },
     "execution_count": 60,
     "metadata": {},
     "output_type": "execute_result"
    }
   ],
   "source": [
    "# Question 19\n",
    "\n",
    "type('10') == type(10) "
   ]
  },
  {
   "cell_type": "code",
   "execution_count": 87,
   "id": "adf913b5",
   "metadata": {},
   "outputs": [
    {
     "name": "stdout",
     "output_type": "stream",
     "text": [
      "False\n"
     ]
    }
   ],
   "source": [
    "# Question 20\n",
    "\n",
    "a= int(float('9.8'))\n",
    "\n",
    "print (a == 10)\n"
   ]
  },
  {
   "cell_type": "code",
   "execution_count": null,
   "id": "d67003c1",
   "metadata": {},
   "outputs": [],
   "source": [
    "# Question 21\n",
    "\n",
    "hours = int(input('Enter hours: '))\n",
    "\n",
    "rate_per_hour = int(input('Enter rate per hour: '))\n",
    "\n",
    "weekly_earning = hours * rate_per_hour\n",
    "\n",
    "\n",
    "print ('Your weekly earning is: ', weekly_earning)"
   ]
  },
  {
   "cell_type": "code",
   "execution_count": 70,
   "id": "64004745",
   "metadata": {},
   "outputs": [
    {
     "name": "stdout",
     "output_type": "stream",
     "text": [
      "Enter number of years you have lived: 2\n",
      "You have lived for 63113904 seconds\n"
     ]
    }
   ],
   "source": [
    "# Question 22\n",
    "\n",
    "years = int(input('Enter number of years you have lived: '))\n",
    "\n",
    "seconds = years * 31556952\n",
    "\n",
    "ax = ('You have lived for {} seconds'). format(seconds)\n",
    "print (ax)\n",
    "\n"
   ]
  },
  {
   "cell_type": "code",
   "execution_count": 94,
   "id": "a8c27f40",
   "metadata": {},
   "outputs": [
    {
     "name": "stdout",
     "output_type": "stream",
     "text": [
      "1 1 1 1 1\n",
      "2 1 2 4 8\n",
      "3 1 3 9 27\n",
      "4 1 4 16 64\n",
      "5 1 5 25 125\n"
     ]
    }
   ],
   "source": [
    "#Question 23\n",
    "\n",
    "print(1,1,1,1,1)\n",
    "print(2,1,2,4,8)\n",
    "print(3,1,3,9,27)\n",
    "print(4,1,4,16,64)\n",
    "print(5,1,5,25,125)"
   ]
  },
  {
   "cell_type": "code",
   "execution_count": null,
   "id": "099a5426",
   "metadata": {},
   "outputs": [],
   "source": []
  }
 ],
 "metadata": {
  "kernelspec": {
   "display_name": "Python 3 (ipykernel)",
   "language": "python",
   "name": "python3"
  },
  "language_info": {
   "codemirror_mode": {
    "name": "ipython",
    "version": 3
   },
   "file_extension": ".py",
   "mimetype": "text/x-python",
   "name": "python",
   "nbconvert_exporter": "python",
   "pygments_lexer": "ipython3",
   "version": "3.9.13"
  }
 },
 "nbformat": 4,
 "nbformat_minor": 5
}
