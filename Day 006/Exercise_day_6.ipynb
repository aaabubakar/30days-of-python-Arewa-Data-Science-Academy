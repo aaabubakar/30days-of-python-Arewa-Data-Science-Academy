{
 "cells": [
  {
   "cell_type": "markdown",
   "id": "d8b68618",
   "metadata": {},
   "source": [
    "# Execise Day 6"
   ]
  },
  {
   "cell_type": "markdown",
   "id": "6a49e140",
   "metadata": {},
   "source": [
    "## Level 1"
   ]
  },
  {
   "cell_type": "code",
   "execution_count": 1,
   "id": "f3c42479",
   "metadata": {},
   "outputs": [
    {
     "name": "stdout",
     "output_type": "stream",
     "text": [
      "()\n"
     ]
    }
   ],
   "source": [
    "# Question 1\n",
    "# Creating an empty Tuple\n",
    "\n",
    "Empty_tuple = ()\n",
    "print(Empty_tuple)"
   ]
  },
  {
   "cell_type": "code",
   "execution_count": 2,
   "id": "7e89a919",
   "metadata": {},
   "outputs": [
    {
     "name": "stdout",
     "output_type": "stream",
     "text": [
      "('Hamza', 'Yahaya', 'Khaleed')\n",
      "('Bilkisu', 'Ameena', 'Maryam')\n"
     ]
    }
   ],
   "source": [
    "# Question 2\n",
    "#Create a tuple containing names of your sisters and your brothers\n",
    "\n",
    "brothers =(\"Hamza\", 'Yahaya', 'Khaleed')\n",
    "sisters = ('Bilkisu', 'Ameena', 'Maryam')\n",
    "\n",
    "print (brothers)\n",
    "print (sisters)"
   ]
  },
  {
   "cell_type": "code",
   "execution_count": 3,
   "id": "d8ea65f7",
   "metadata": {},
   "outputs": [
    {
     "name": "stdout",
     "output_type": "stream",
     "text": [
      "('Hamza', 'Yahaya', 'Khaleed', 'Bilkisu', 'Ameena', 'Maryam')\n"
     ]
    }
   ],
   "source": [
    "# Question 3\n",
    "# Join brothers and sisters tuples and assign it to siblings\n",
    "\n",
    "siblings = brothers + sisters\n",
    "\n",
    "print (siblings)"
   ]
  },
  {
   "cell_type": "code",
   "execution_count": 4,
   "id": "453fa959",
   "metadata": {},
   "outputs": [
    {
     "name": "stdout",
     "output_type": "stream",
     "text": [
      "6\n"
     ]
    }
   ],
   "source": [
    "# Question 4\n",
    "# How many siblings do you have?\n",
    "\n",
    "print (len(siblings))\n"
   ]
  },
  {
   "cell_type": "code",
   "execution_count": 5,
   "id": "52946583",
   "metadata": {},
   "outputs": [
    {
     "name": "stdout",
     "output_type": "stream",
     "text": [
      "['Hamza', 'Yahaya', 'Khaleed', 'Bilkisu', 'Ameena', 'Maryam']\n"
     ]
    }
   ],
   "source": [
    "# Questiuon 5\n",
    "# Modify the siblings tuple and add the name of your father and mother and assign it to family_members\n",
    "\n",
    "# Tuple is unmuttable therefore to modify tuple we need to convert it to a list\n",
    "\n",
    "family_members = list(siblings) \n",
    "\n",
    "print(family_members)"
   ]
  },
  {
   "cell_type": "code",
   "execution_count": 6,
   "id": "45b8aa20",
   "metadata": {},
   "outputs": [],
   "source": [
    "family_members.append('Fatheer')"
   ]
  },
  {
   "cell_type": "code",
   "execution_count": 7,
   "id": "2dc3216d",
   "metadata": {},
   "outputs": [],
   "source": [
    "family_members.append('Mother')"
   ]
  },
  {
   "cell_type": "code",
   "execution_count": 8,
   "id": "e1f9e0bc",
   "metadata": {},
   "outputs": [
    {
     "name": "stdout",
     "output_type": "stream",
     "text": [
      "['Hamza', 'Yahaya', 'Khaleed', 'Bilkisu', 'Ameena', 'Maryam', 'Fatheer', 'Mother']\n"
     ]
    }
   ],
   "source": [
    "print(family_members)"
   ]
  },
  {
   "cell_type": "markdown",
   "id": "0dec7395",
   "metadata": {},
   "source": [
    "## Exercises: Level 2"
   ]
  },
  {
   "cell_type": "code",
   "execution_count": 9,
   "id": "fab6f4df",
   "metadata": {},
   "outputs": [
    {
     "name": "stdout",
     "output_type": "stream",
     "text": [
      "['Hamza', 'Yahaya', 'Khaleed', 'Bilkisu', 'Ameena', 'Maryam']\n",
      "['Fatheer', 'Mother']\n"
     ]
    }
   ],
   "source": [
    "# Question 1 \n",
    "# Unpack siblings and parents from family_members\n",
    "\n",
    "siblings = family_members [0:6]\n",
    "parents = family_members[6:]\n",
    "\n",
    "print (siblings)\n",
    "print(parents)\n"
   ]
  },
  {
   "cell_type": "code",
   "execution_count": 10,
   "id": "02462f82",
   "metadata": {},
   "outputs": [
    {
     "name": "stdout",
     "output_type": "stream",
     "text": [
      "('Mango', 'Apple', 'Orange', 'Tomatoe', 'Letus', 'Green pepper', 'Onions', 'chicken', 'Goat meat', 'Cow meat')\n"
     ]
    }
   ],
   "source": [
    "# Question 2\n",
    "# Create fruits, vegetables and animal products tuples. Join the three tuples and assign it to a variable called food_stuff_tp.\n",
    "fruits = ('Mango', 'Apple', 'Orange')\n",
    "vegetables = ('Tomatoe', 'Letus', 'Green pepper', 'Onions')\n",
    "animal_products = ('chicken', 'Goat meat', 'Cow meat')\n",
    "\n",
    "food_stuff_tp = fruits + vegetables + animal_products\n",
    "print (food_stuff_tp)"
   ]
  },
  {
   "cell_type": "code",
   "execution_count": 11,
   "id": "15ef0b6a",
   "metadata": {},
   "outputs": [
    {
     "name": "stdout",
     "output_type": "stream",
     "text": [
      "['Mango', 'Apple', 'Orange', 'Tomatoe', 'Letus', 'Green pepper', 'Onions', 'chicken', 'Goat meat', 'Cow meat']\n"
     ]
    }
   ],
   "source": [
    "# Question 3\n",
    "# Change the about food_stuff_tp tuple to a food_stuff_lt list\n",
    "\n",
    "food_stuff_lt = list (food_stuff_tp)\n",
    "print (food_stuff_lt)"
   ]
  },
  {
   "cell_type": "code",
   "execution_count": 12,
   "id": "221734b6",
   "metadata": {},
   "outputs": [
    {
     "data": {
      "text/plain": [
       "['Letus', 'Green pepper']"
      ]
     },
     "execution_count": 12,
     "metadata": {},
     "output_type": "execute_result"
    }
   ],
   "source": [
    "# Question 4\n",
    "# Slice out the middle item or items from the food_stuff_tp tuple or food_stuff_lt list\n",
    "food_stuff_lt [4:6]\n"
   ]
  },
  {
   "cell_type": "code",
   "execution_count": 13,
   "id": "270fefcc",
   "metadata": {},
   "outputs": [
    {
     "data": {
      "text/plain": [
       "['Mango', 'Apple', 'Orange']"
      ]
     },
     "execution_count": 13,
     "metadata": {},
     "output_type": "execute_result"
    }
   ],
   "source": [
    "# Question 5\n",
    "# Slice out the first three items and the last three items from food_staff_lt list\n",
    "food_stuff_lt[:3]\n"
   ]
  },
  {
   "cell_type": "code",
   "execution_count": 14,
   "id": "4d4880ff",
   "metadata": {},
   "outputs": [],
   "source": [
    "# Question 6\n",
    "# Delete the food_staff_tp tuple completely\n",
    "del food_stuff_tp"
   ]
  },
  {
   "cell_type": "code",
   "execution_count": 15,
   "id": "9cf1eb9a",
   "metadata": {},
   "outputs": [
    {
     "name": "stdout",
     "output_type": "stream",
     "text": [
      "False\n",
      "True\n"
     ]
    }
   ],
   "source": [
    "# Question 7\n",
    "# Check if an item exists in tuple:\n",
    "nordic_countries = ('Denmark', 'Finland','Iceland', 'Norway', 'Sweden')\n",
    "\n",
    "# Check if 'Estonia' is a nordic country\n",
    "print ('Estonia' in nordic_countries)\n",
    "\n",
    "# Check if 'Iceland' is a nordic country\n",
    "print ('Iceland' in nordic_countries)"
   ]
  }
 ],
 "metadata": {
  "kernelspec": {
   "display_name": "Python 3 (ipykernel)",
   "language": "python",
   "name": "python3"
  },
  "language_info": {
   "codemirror_mode": {
    "name": "ipython",
    "version": 3
   },
   "file_extension": ".py",
   "mimetype": "text/x-python",
   "name": "python",
   "nbconvert_exporter": "python",
   "pygments_lexer": "ipython3",
   "version": "3.9.13"
  }
 },
 "nbformat": 4,
 "nbformat_minor": 5
}
